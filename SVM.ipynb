{
 "cells": [
  {
   "cell_type": "code",
   "execution_count": 13,
   "id": "abda9522",
   "metadata": {},
   "outputs": [],
   "source": [
    "import os\n",
    "import numpy as np\n",
    "import pandas as pd\n",
    "from sklearn.model_selection import KFold\n",
    "import time\n",
    "from sklearn.svm import SVC\n",
    "from sklearn.preprocessing import StandardScaler"
   ]
  },
  {
   "cell_type": "code",
   "execution_count": 2,
   "id": "bab7a6fe",
   "metadata": {},
   "outputs": [],
   "source": [
    "data = pd.read_csv('./dataset/new/data.csv').drop(columns=\"Unnamed: 0\")\n",
    "labels = pd.read_csv('./dataset/new/labels.csv')"
   ]
  },
  {
   "cell_type": "code",
   "execution_count": 3,
   "id": "1c6d8a6f",
   "metadata": {},
   "outputs": [
    {
     "data": {
      "text/html": [
       "<div>\n",
       "<style scoped>\n",
       "    .dataframe tbody tr th:only-of-type {\n",
       "        vertical-align: middle;\n",
       "    }\n",
       "\n",
       "    .dataframe tbody tr th {\n",
       "        vertical-align: top;\n",
       "    }\n",
       "\n",
       "    .dataframe thead th {\n",
       "        text-align: right;\n",
       "    }\n",
       "</style>\n",
       "<table border=\"1\" class=\"dataframe\">\n",
       "  <thead>\n",
       "    <tr style=\"text-align: right;\">\n",
       "      <th></th>\n",
       "      <th>zcr_mean</th>\n",
       "      <th>zcr_std</th>\n",
       "      <th>yin_0</th>\n",
       "      <th>yin_1</th>\n",
       "      <th>yin_2</th>\n",
       "      <th>yin_3</th>\n",
       "      <th>yin_4</th>\n",
       "      <th>yin_5</th>\n",
       "      <th>yin_6</th>\n",
       "      <th>yin_7</th>\n",
       "      <th>...</th>\n",
       "      <th>cln_contrast_mean_4</th>\n",
       "      <th>cln_contrast_mean_5</th>\n",
       "      <th>cln_contrast_mean_6</th>\n",
       "      <th>cln_contrast_std_0</th>\n",
       "      <th>cln_contrast_std_1</th>\n",
       "      <th>cln_contrast_std_2</th>\n",
       "      <th>cln_contrast_std_3</th>\n",
       "      <th>cln_contrast_std_4</th>\n",
       "      <th>cln_contrast_std_5</th>\n",
       "      <th>cln_contrast_std_6</th>\n",
       "    </tr>\n",
       "  </thead>\n",
       "  <tbody>\n",
       "    <tr>\n",
       "      <th>0</th>\n",
       "      <td>0.166783</td>\n",
       "      <td>0.079440</td>\n",
       "      <td>490.95706</td>\n",
       "      <td>491.75300</td>\n",
       "      <td>488.98358</td>\n",
       "      <td>485.07758</td>\n",
       "      <td>469.73868</td>\n",
       "      <td>513.68710</td>\n",
       "      <td>512.65735</td>\n",
       "      <td>245.0429</td>\n",
       "      <td>...</td>\n",
       "      <td>13.432678</td>\n",
       "      <td>13.885087</td>\n",
       "      <td>17.060001</td>\n",
       "      <td>6.169077</td>\n",
       "      <td>3.001384</td>\n",
       "      <td>3.211213</td>\n",
       "      <td>4.549636</td>\n",
       "      <td>3.261581</td>\n",
       "      <td>3.175519</td>\n",
       "      <td>1.371739</td>\n",
       "    </tr>\n",
       "    <tr>\n",
       "      <th>1</th>\n",
       "      <td>0.241420</td>\n",
       "      <td>0.026630</td>\n",
       "      <td>467.41357</td>\n",
       "      <td>516.48170</td>\n",
       "      <td>515.56213</td>\n",
       "      <td>514.21027</td>\n",
       "      <td>509.39246</td>\n",
       "      <td>510.75034</td>\n",
       "      <td>511.41998</td>\n",
       "      <td>511.0642</td>\n",
       "      <td>...</td>\n",
       "      <td>11.027208</td>\n",
       "      <td>14.805115</td>\n",
       "      <td>17.158812</td>\n",
       "      <td>4.463205</td>\n",
       "      <td>3.956305</td>\n",
       "      <td>1.962520</td>\n",
       "      <td>2.206298</td>\n",
       "      <td>2.378360</td>\n",
       "      <td>1.921748</td>\n",
       "      <td>2.072176</td>\n",
       "    </tr>\n",
       "    <tr>\n",
       "      <th>2</th>\n",
       "      <td>0.264509</td>\n",
       "      <td>0.023550</td>\n",
       "      <td>511.84506</td>\n",
       "      <td>508.17822</td>\n",
       "      <td>509.49075</td>\n",
       "      <td>509.44510</td>\n",
       "      <td>513.54913</td>\n",
       "      <td>512.35550</td>\n",
       "      <td>514.46606</td>\n",
       "      <td>515.2646</td>\n",
       "      <td>...</td>\n",
       "      <td>12.740061</td>\n",
       "      <td>13.215790</td>\n",
       "      <td>16.725847</td>\n",
       "      <td>1.774137</td>\n",
       "      <td>3.766160</td>\n",
       "      <td>2.463165</td>\n",
       "      <td>1.830873</td>\n",
       "      <td>3.058117</td>\n",
       "      <td>1.740199</td>\n",
       "      <td>1.977650</td>\n",
       "    </tr>\n",
       "    <tr>\n",
       "      <th>3</th>\n",
       "      <td>0.295410</td>\n",
       "      <td>0.016382</td>\n",
       "      <td>514.25470</td>\n",
       "      <td>512.56980</td>\n",
       "      <td>4576.39400</td>\n",
       "      <td>4567.56050</td>\n",
       "      <td>4576.48800</td>\n",
       "      <td>4655.34030</td>\n",
       "      <td>4689.93850</td>\n",
       "      <td>4697.4040</td>\n",
       "      <td>...</td>\n",
       "      <td>11.951676</td>\n",
       "      <td>13.193249</td>\n",
       "      <td>16.734816</td>\n",
       "      <td>3.230220</td>\n",
       "      <td>3.042296</td>\n",
       "      <td>3.633888</td>\n",
       "      <td>2.285815</td>\n",
       "      <td>2.923266</td>\n",
       "      <td>1.529872</td>\n",
       "      <td>1.633861</td>\n",
       "    </tr>\n",
       "    <tr>\n",
       "      <th>4</th>\n",
       "      <td>0.292899</td>\n",
       "      <td>0.026179</td>\n",
       "      <td>462.35953</td>\n",
       "      <td>4722.73050</td>\n",
       "      <td>4718.76900</td>\n",
       "      <td>4696.35940</td>\n",
       "      <td>4698.63870</td>\n",
       "      <td>4731.37550</td>\n",
       "      <td>4714.80960</td>\n",
       "      <td>4737.3643</td>\n",
       "      <td>...</td>\n",
       "      <td>10.747338</td>\n",
       "      <td>12.740884</td>\n",
       "      <td>16.750946</td>\n",
       "      <td>3.083272</td>\n",
       "      <td>2.659685</td>\n",
       "      <td>3.981223</td>\n",
       "      <td>3.348599</td>\n",
       "      <td>2.550901</td>\n",
       "      <td>1.909587</td>\n",
       "      <td>1.636644</td>\n",
       "    </tr>\n",
       "  </tbody>\n",
       "</table>\n",
       "<p>5 rows × 548 columns</p>\n",
       "</div>"
      ],
      "text/plain": [
       "   zcr_mean   zcr_std      yin_0       yin_1       yin_2       yin_3  \\\n",
       "0  0.166783  0.079440  490.95706   491.75300   488.98358   485.07758   \n",
       "1  0.241420  0.026630  467.41357   516.48170   515.56213   514.21027   \n",
       "2  0.264509  0.023550  511.84506   508.17822   509.49075   509.44510   \n",
       "3  0.295410  0.016382  514.25470   512.56980  4576.39400  4567.56050   \n",
       "4  0.292899  0.026179  462.35953  4722.73050  4718.76900  4696.35940   \n",
       "\n",
       "        yin_4       yin_5       yin_6      yin_7  ...  cln_contrast_mean_4  \\\n",
       "0   469.73868   513.68710   512.65735   245.0429  ...            13.432678   \n",
       "1   509.39246   510.75034   511.41998   511.0642  ...            11.027208   \n",
       "2   513.54913   512.35550   514.46606   515.2646  ...            12.740061   \n",
       "3  4576.48800  4655.34030  4689.93850  4697.4040  ...            11.951676   \n",
       "4  4698.63870  4731.37550  4714.80960  4737.3643  ...            10.747338   \n",
       "\n",
       "   cln_contrast_mean_5  cln_contrast_mean_6  cln_contrast_std_0  \\\n",
       "0            13.885087            17.060001            6.169077   \n",
       "1            14.805115            17.158812            4.463205   \n",
       "2            13.215790            16.725847            1.774137   \n",
       "3            13.193249            16.734816            3.230220   \n",
       "4            12.740884            16.750946            3.083272   \n",
       "\n",
       "   cln_contrast_std_1  cln_contrast_std_2  cln_contrast_std_3  \\\n",
       "0            3.001384            3.211213            4.549636   \n",
       "1            3.956305            1.962520            2.206298   \n",
       "2            3.766160            2.463165            1.830873   \n",
       "3            3.042296            3.633888            2.285815   \n",
       "4            2.659685            3.981223            3.348599   \n",
       "\n",
       "   cln_contrast_std_4  cln_contrast_std_5  cln_contrast_std_6  \n",
       "0            3.261581            3.175519            1.371739  \n",
       "1            2.378360            1.921748            2.072176  \n",
       "2            3.058117            1.740199            1.977650  \n",
       "3            2.923266            1.529872            1.633861  \n",
       "4            2.550901            1.909587            1.636644  \n",
       "\n",
       "[5 rows x 548 columns]"
      ]
     },
     "execution_count": 3,
     "metadata": {},
     "output_type": "execute_result"
    }
   ],
   "source": [
    "data.head()"
   ]
  },
  {
   "cell_type": "code",
   "execution_count": 166,
   "id": "e5d8388c",
   "metadata": {},
   "outputs": [
    {
     "name": "stdout",
     "output_type": "stream",
     "text": [
      "bird0: 85358\n",
      "bird1: 5833\n",
      "bird2: 8954\n",
      "bird3: 8198\n",
      "bird4: 2324\n",
      "bird5: 5111\n",
      "bird6: 4222\n"
     ]
    }
   ],
   "source": [
    "for i in range(7):\n",
    "    print(f\"bird{i}:\",labels[labels[\"Aggregated\"]==i].shape[0])"
   ]
  },
  {
   "cell_type": "code",
   "execution_count": null,
   "id": "b71695cd",
   "metadata": {},
   "outputs": [],
   "source": [
    "from sklearn.model_selection import KFold\n",
    "import time\n",
    "from sklearn.svm import SVC\n",
    "\n",
    "kf = KFold(n_splits=5, shuffle=True, random_state=42)\n",
    "\n",
    "for train_index, test_index in kf.split(data):\n",
    "    X_train, X_test = data.iloc[train_index], data.iloc[test_index]\n",
    "    y_train, y_test = labels.iloc[train_index], labels.iloc[test_index]\n",
    "    # do your modeling and evaluation here\n",
    "    svc_(X_train.to_numpy(), X_test.to_numpy(), y_train[\"Aggregated\"].to_numpy(), y_test[\"Aggregated\"].to_numpy())\n",
    "    \n",
    "    "
   ]
  },
  {
   "cell_type": "code",
   "execution_count": null,
   "id": "cf755460",
   "metadata": {},
   "outputs": [],
   "source": [
    "print(2)"
   ]
  },
  {
   "cell_type": "code",
   "execution_count": 6,
   "id": "ca0b55d2",
   "metadata": {
    "scrolled": true
   },
   "outputs": [
    {
     "name": "stdout",
     "output_type": "stream",
     "text": [
      "bird0: 68299\n",
      "bird1: 4647\n",
      "bird2: 7113\n",
      "bird3: 6575\n",
      "bird4: 1871\n",
      "bird5: 4081\n",
      "bird6: 3414\n"
     ]
    }
   ],
   "source": [
    "for i in range(7):\n",
    "    print(f\"bird{i}:\",y_train[y_train[\"Aggregated\"]==i].shape[0])"
   ]
  },
  {
   "cell_type": "code",
   "execution_count": 183,
   "id": "c92088c6",
   "metadata": {},
   "outputs": [],
   "source": [
    "def svc_(X_train, X_test, y_train, y_test):\n",
    "    model = SVC(C=1, kernel=\"rbf\", gamma=0.9, cache_size=1000)\n",
    "    start_train= time.time()\n",
    "    model.fit(X_train, y_train)\n",
    "    end_train = time.time()\n",
    "    train_time = np.round(end_train-start_train,decimals=2)\n",
    "    print(\"training took {:.2f} seconds\".format(train_time))\n",
    "\n",
    "    start_infer= time.time()\n",
    "    pred = model.predict(X_test)\n",
    "    end_infer = time.time()\n",
    "    infer_time = np.round(end_infer-start_infer,decimals=2)\n",
    "    print(\"inference took {:.2f} seconds\".format(infer_time))\n",
    "\n",
    "    accuracy = np.round(sum((pred-y_test)==0)/len(y_test)*100,\n",
    "                        decimals=2)\n",
    "    print(\"test accuracy: {:.2f} percent\".format(accuracy))\n",
    "    print(30*\"-\")\n",
    "    return pred, model"
   ]
  },
  {
   "cell_type": "code",
   "execution_count": 199,
   "id": "ece59d62",
   "metadata": {},
   "outputs": [],
   "source": [
    "train_data = []\n",
    "train_label = []\n",
    "for i in range(0,7):\n",
    "    index = np.random.permutation(labels[labels[\"Aggregated\"] == i].index)\n",
    "    for j in range(2324):\n",
    "        train_data.append(data.iloc[index[j]].to_numpy())\n",
    "        train_label.append(i)\n",
    "train_data = np.array(train_data)\n",
    "train_label = np.array(train_label)"
   ]
  },
  {
   "cell_type": "code",
   "execution_count": 278,
   "id": "e3800b6a",
   "metadata": {},
   "outputs": [
    {
     "data": {
      "text/plain": [
       "Int64Index([19516, 18133, 13543,  4685,  7079, 18019,  3465,  7716, 13455,\n",
       "            12178,\n",
       "            ...\n",
       "            12139, 11856,   135, 18570,  1364, 13251,  4844,  4195, 10336,\n",
       "             1238],\n",
       "           dtype='int64', length=2324)"
      ]
     },
     "execution_count": 278,
     "metadata": {},
     "output_type": "execute_result"
    }
   ],
   "source": [
    "labels[labels[\"Aggregated\"] == 1].sample(2324).index"
   ]
  },
  {
   "cell_type": "code",
   "execution_count": null,
   "id": "613121f7",
   "metadata": {},
   "outputs": [],
   "source": [
    "train_data = []\n",
    "train_label = []\n",
    "for i in range(0,7): \n",
    "    index = labels[labels[\"Aggregated\"] == 1].sample(2324).index\n",
    "    for j in range(2324):\n",
    "        train_data.append(data.iloc[index[j]].to_numpy())\n",
    "        train_label.append(i)\n",
    "train_data = np.array(train_data)\n",
    "train_label = np.array(train_label)"
   ]
  },
  {
   "cell_type": "code",
   "execution_count": 268,
   "id": "6105debd",
   "metadata": {},
   "outputs": [],
   "source": [
    "train_data = []\n",
    "train_label = []\n",
    "for i in range(0,7): \n",
    "    labels[labels[\"Aggregated\"] == 1].sample(2324).index\n",
    "    for j in range(2324):\n",
    "        index = np.random.permutation(labels[labels[\"Aggregated\"] == i].index)[0]\n",
    "        train_data.append(data.iloc[index].to_numpy())\n",
    "        train_label.append(i)\n",
    "train_data = np.array(train_data)\n",
    "train_label = np.array(train_label)"
   ]
  },
  {
   "cell_type": "markdown",
   "id": "4a29a4f4",
   "metadata": {},
   "source": [
    "### With class 0"
   ]
  },
  {
   "cell_type": "code",
   "execution_count": 206,
   "id": "55ab1d6e",
   "metadata": {},
   "outputs": [
    {
     "name": "stdout",
     "output_type": "stream",
     "text": [
      "training took 89.51 seconds\n",
      "inference took 10.20 seconds\n",
      "test accuracy: 42.41 percent\n",
      "------------------------------\n",
      "training took 86.85 seconds\n",
      "inference took 10.21 seconds\n",
      "test accuracy: 44.50 percent\n",
      "------------------------------\n",
      "training took 87.09 seconds\n",
      "inference took 10.17 seconds\n",
      "test accuracy: 42.96 percent\n",
      "------------------------------\n",
      "training took 93.76 seconds\n",
      "inference took 10.62 seconds\n",
      "test accuracy: 42.90 percent\n",
      "------------------------------\n",
      "training took 93.55 seconds\n",
      "inference took 10.53 seconds\n",
      "test accuracy: 46.77 percent\n",
      "------------------------------\n",
      "training took 92.88 seconds\n",
      "inference took 10.54 seconds\n",
      "test accuracy: 44.01 percent\n",
      "------------------------------\n",
      "training took 92.79 seconds\n",
      "inference took 11.55 seconds\n",
      "test accuracy: 44.25 percent\n",
      "------------------------------\n",
      "training took 105.39 seconds\n",
      "inference took 10.72 seconds\n",
      "test accuracy: 44.81 percent\n",
      "------------------------------\n",
      "training took 96.41 seconds\n",
      "inference took 10.47 seconds\n",
      "test accuracy: 41.64 percent\n",
      "------------------------------\n",
      "training took 92.32 seconds\n",
      "inference took 10.60 seconds\n",
      "test accuracy: 42.37 percent\n",
      "------------------------------\n"
     ]
    }
   ],
   "source": [
    "scaler = StandardScaler()\n",
    "transformed_train_data = scaler.fit_transform(train_data, train_label)\n",
    "\n",
    "kf = KFold(n_splits=10, shuffle=True, random_state=42)\n",
    "\n",
    "predictions_0 = []\n",
    "models_0 = []\n",
    "for train_index, test_index in kf.split(transformed_train_data):\n",
    "    X_train, X_test = transformed_train_data[train_index], transformed_train_data[test_index]\n",
    "    y_train, y_test = train_label[train_index], train_label[test_index]\n",
    "    pred, model = svc_(X_train, X_test, y_train, y_test)\n",
    "    predictions_0.append(pred)\n",
    "    models_0.append(model)"
   ]
  },
  {
   "cell_type": "code",
   "execution_count": 200,
   "id": "f6ca2a8b",
   "metadata": {},
   "outputs": [
    {
     "name": "stdout",
     "output_type": "stream",
     "text": [
      "training took 92.96 seconds\n",
      "inference took 10.39 seconds\n",
      "test accuracy: 13.40 percent\n",
      "------------------------------\n",
      "training took 91.86 seconds\n",
      "inference took 10.36 seconds\n",
      "test accuracy: 13.34 percent\n",
      "------------------------------\n",
      "training took 100.20 seconds\n",
      "inference took 10.74 seconds\n",
      "test accuracy: 13.28 percent\n",
      "------------------------------\n",
      "training took 94.37 seconds\n",
      "inference took 10.38 seconds\n",
      "test accuracy: 12.60 percent\n",
      "------------------------------\n",
      "training took 92.98 seconds\n",
      "inference took 10.89 seconds\n",
      "test accuracy: 13.03 percent\n",
      "------------------------------\n",
      "training took 94.80 seconds\n",
      "inference took 10.39 seconds\n",
      "test accuracy: 13.64 percent\n",
      "------------------------------\n",
      "training took 97.00 seconds\n",
      "inference took 10.76 seconds\n",
      "test accuracy: 13.83 percent\n",
      "------------------------------\n",
      "training took 96.98 seconds\n",
      "inference took 10.65 seconds\n",
      "test accuracy: 13.58 percent\n",
      "------------------------------\n",
      "training took 96.82 seconds\n",
      "inference took 10.68 seconds\n",
      "test accuracy: 12.67 percent\n",
      "------------------------------\n",
      "training took 98.11 seconds\n",
      "inference took 10.67 seconds\n",
      "test accuracy: 12.61 percent\n",
      "------------------------------\n"
     ]
    }
   ],
   "source": [
    "scaler = StandardScaler()\n",
    "transformed_train_data = scaler.fit_transform(train_data, train_label)\n",
    "\n",
    "kf = KFold(n_splits=10, shuffle=True, random_state=42)\n",
    "\n",
    "predictions_0 = []\n",
    "models_0 = []\n",
    "for train_index, test_index in kf.split(transformed_train_data):\n",
    "    X_train, X_test = transformed_train_data[train_index], transformed_train_data[test_index]\n",
    "    y_train, y_test = train_label[train_index], train_label[test_index]\n",
    "    pred, model = svc_(X_train, X_test, y_train, y_test)\n",
    "    predictions_0.append(pred)\n",
    "    models_0.append(model)"
   ]
  },
  {
   "cell_type": "markdown",
   "id": "94e7a7a7",
   "metadata": {},
   "source": [
    "### WIthout class 0"
   ]
  },
  {
   "cell_type": "code",
   "execution_count": 269,
   "id": "05c17582",
   "metadata": {},
   "outputs": [
    {
     "name": "stdout",
     "output_type": "stream",
     "text": [
      "training took 61.44 seconds\n",
      "inference took 7.17 seconds\n",
      "test accuracy: 49.89 percent\n",
      "------------------------------\n",
      "training took 61.04 seconds\n",
      "inference took 7.16 seconds\n",
      "test accuracy: 47.31 percent\n",
      "------------------------------\n",
      "training took 60.97 seconds\n",
      "inference took 7.18 seconds\n",
      "test accuracy: 47.24 percent\n",
      "------------------------------\n",
      "training took 63.75 seconds\n",
      "inference took 7.86 seconds\n",
      "test accuracy: 47.31 percent\n",
      "------------------------------\n",
      "training took 62.85 seconds\n",
      "inference took 7.12 seconds\n",
      "test accuracy: 47.63 percent\n",
      "------------------------------\n",
      "training took 61.21 seconds\n",
      "inference took 7.14 seconds\n",
      "test accuracy: 47.56 percent\n",
      "------------------------------\n",
      "training took 60.51 seconds\n",
      "inference took 7.07 seconds\n",
      "test accuracy: 47.27 percent\n",
      "------------------------------\n",
      "training took 61.23 seconds\n",
      "inference took 7.14 seconds\n",
      "test accuracy: 45.98 percent\n",
      "------------------------------\n",
      "training took 64.97 seconds\n",
      "inference took 7.76 seconds\n",
      "test accuracy: 47.35 percent\n",
      "------------------------------\n",
      "training took 67.43 seconds\n",
      "inference took 7.82 seconds\n",
      "test accuracy: 44.98 percent\n",
      "------------------------------\n"
     ]
    }
   ],
   "source": [
    "scaler = StandardScaler()\n",
    "transformed_train_data = scaler.fit_transform(train_data, train_label)\n",
    "\n",
    "kf = KFold(n_splits=10, shuffle=True, random_state=42)\n",
    "\n",
    "predictions_ = []\n",
    "models_ = []\n",
    "for train_index, test_index in kf.split(transformed_train_data):\n",
    "    X_train, X_test = transformed_train_data[train_index], transformed_train_data[test_index]\n",
    "    y_train, y_test = train_label[train_index], train_label[test_index]\n",
    "    pred, model = svc_(X_train, X_test, y_train, y_test)\n",
    "    predictions_.append(pred)\n",
    "    models_.append(model)"
   ]
  },
  {
   "cell_type": "code",
   "execution_count": 265,
   "id": "c9f2d3f2",
   "metadata": {},
   "outputs": [
    {
     "name": "stdout",
     "output_type": "stream",
     "text": [
      "78862\n",
      "60041\n",
      "72804\n",
      "60116\n",
      "67017\n",
      "63565\n",
      "68529\n",
      "76161\n",
      "75902\n",
      "71259\n",
      "60209\n",
      "75104\n",
      "61126\n",
      "60150\n",
      "67017\n",
      "70306\n",
      "61343\n",
      "64042\n",
      "71093\n",
      "79526\n",
      "63089\n",
      "67012\n",
      "79235\n",
      "65734\n",
      "67395\n",
      "69389\n",
      "70563\n",
      "72340\n",
      "61370\n",
      "63252\n",
      "64079\n",
      "67026\n",
      "79405\n",
      "61213\n",
      "78986\n",
      "75915\n",
      "70347\n",
      "60448\n",
      "74072\n",
      "66338\n",
      "67942\n",
      "70721\n",
      "72742\n",
      "77902\n",
      "60320\n",
      "66464\n",
      "64843\n",
      "79814\n",
      "61071\n",
      "62322\n",
      "65392\n",
      "75931\n",
      "67955\n",
      "78206\n",
      "66567\n",
      "61799\n",
      "67769\n",
      "67217\n",
      "72254\n",
      "60847\n",
      "77717\n",
      "69688\n",
      "78303\n",
      "66962\n",
      "65014\n",
      "61798\n",
      "64563\n",
      "67282\n",
      "73406\n",
      "67363\n",
      "72740\n",
      "62690\n",
      "72217\n",
      "61335\n",
      "79526\n",
      "67015\n",
      "78491\n",
      "68711\n",
      "62198\n",
      "69708\n",
      "75257\n",
      "71009\n",
      "64323\n",
      "78065\n",
      "61559\n",
      "71259\n",
      "72465\n",
      "62159\n",
      "74149\n",
      "75951\n",
      "68143\n",
      "71747\n",
      "78104\n",
      "66322\n",
      "66770\n",
      "79889\n",
      "60748\n",
      "60320\n",
      "79235\n",
      "68406\n"
     ]
    }
   ],
   "source": [
    "train_data = []\n",
    "train_label = []\n",
    "for i in range(0,7):\n",
    "    if i == 4: \n",
    "        for j in range(2324):\n",
    "            index = np.random.permutation(labels[labels[\"Aggregated\"] == i].index)[0]\n",
    "            if j < 100:\n",
    "                print(index)\n",
    "            train_data.append(data.iloc[index].to_numpy())\n",
    "            train_label.append(i)\n",
    "    else:\n",
    "        for j in range(4000):\n",
    "            index = np.random.permutation(labels[labels[\"Aggregated\"] == i].index)[0]\n",
    "            train_data.append(data.iloc[index].to_numpy())\n",
    "            train_label.append(i)\n",
    "train_data = np.array(train_data)\n",
    "train_label = np.array(train_label)"
   ]
  },
  {
   "cell_type": "code",
   "execution_count": 266,
   "id": "042000ff",
   "metadata": {},
   "outputs": [],
   "source": [
    "scaler = StandardScaler()\n",
    "transformed_train_data = scaler.fit_transform(train_data, train_label)\n"
   ]
  },
  {
   "cell_type": "code",
   "execution_count": 267,
   "id": "0b64344d",
   "metadata": {},
   "outputs": [
    {
     "name": "stdout",
     "output_type": "stream",
     "text": [
      "training took 266.64 seconds\n",
      "inference took 26.84 seconds\n",
      "test accuracy: 54.54 percent\n",
      "------------------------------\n",
      "training took 266.43 seconds\n",
      "inference took 26.75 seconds\n",
      "test accuracy: 54.12 percent\n",
      "------------------------------\n",
      "training took 266.82 seconds\n",
      "inference took 27.03 seconds\n",
      "test accuracy: 54.27 percent\n",
      "------------------------------\n",
      "training took 267.31 seconds\n",
      "inference took 26.83 seconds\n",
      "test accuracy: 54.12 percent\n",
      "------------------------------\n",
      "training took 260.36 seconds\n",
      "inference took 26.87 seconds\n",
      "test accuracy: 53.31 percent\n",
      "------------------------------\n",
      "training took 267.94 seconds\n",
      "inference took 26.19 seconds\n",
      "test accuracy: 53.69 percent\n",
      "------------------------------\n",
      "training took 250.80 seconds\n",
      "inference took 26.08 seconds\n",
      "test accuracy: 54.67 percent\n",
      "------------------------------\n",
      "training took 263.31 seconds\n",
      "inference took 25.86 seconds\n",
      "test accuracy: 53.95 percent\n",
      "------------------------------\n",
      "training took 273.38 seconds\n",
      "inference took 28.22 seconds\n",
      "test accuracy: 54.33 percent\n",
      "------------------------------\n",
      "training took 261.71 seconds\n",
      "inference took 25.78 seconds\n",
      "test accuracy: 53.50 percent\n",
      "------------------------------\n"
     ]
    }
   ],
   "source": [
    "kf = KFold(n_splits=10, shuffle=True, random_state=42)\n",
    "\n",
    "predictions = []\n",
    "models = []\n",
    "for train_index, test_index in kf.split(transformed_train_data):\n",
    "    X_train, X_test = transformed_train_data[train_index], transformed_train_data[test_index]\n",
    "    y_train, y_test = train_label[train_index], train_label[test_index]\n",
    "    pred, model = svc_(X_train, X_test, y_train, y_test)\n",
    "    predictions.append(pred)\n",
    "    models.append(model)"
   ]
  },
  {
   "cell_type": "code",
   "execution_count": 115,
   "id": "eb0b2e86",
   "metadata": {},
   "outputs": [
    {
     "name": "stdout",
     "output_type": "stream",
     "text": [
      "training took 191.29 seconds\n",
      "inference took 17.91 seconds\n",
      "test accuracy: 47.32 percent\n",
      "------------------------------\n",
      "training took 195.38 seconds\n",
      "inference took 19.19 seconds\n",
      "test accuracy: 46.78 percent\n",
      "------------------------------\n",
      "training took 198.29 seconds\n",
      "inference took 18.79 seconds\n",
      "test accuracy: 50.42 percent\n",
      "------------------------------\n",
      "training took 187.07 seconds\n",
      "inference took 18.22 seconds\n",
      "test accuracy: 46.88 percent\n",
      "------------------------------\n",
      "training took 194.02 seconds\n",
      "inference took 18.91 seconds\n",
      "test accuracy: 47.74 percent\n",
      "------------------------------\n",
      "training took 191.63 seconds\n",
      "inference took 18.81 seconds\n",
      "test accuracy: 48.97 percent\n",
      "------------------------------\n",
      "training took 189.79 seconds\n",
      "inference took 19.18 seconds\n",
      "test accuracy: 49.26 percent\n",
      "------------------------------\n",
      "training took 192.99 seconds\n",
      "inference took 18.56 seconds\n",
      "test accuracy: 48.23 percent\n",
      "------------------------------\n",
      "training took 184.89 seconds\n",
      "inference took 18.58 seconds\n",
      "test accuracy: 49.06 percent\n",
      "------------------------------\n",
      "training took 188.75 seconds\n",
      "inference took 19.01 seconds\n",
      "test accuracy: 49.66 percent\n",
      "------------------------------\n"
     ]
    }
   ],
   "source": [
    "#3000\n",
    "kf = KFold(n_splits=10, shuffle=True, random_state=42)\n",
    "\n",
    "predictions = []\n",
    "models = []\n",
    "for train_index, test_index in kf.split(transformed_train_data):\n",
    "    X_train, X_test = transformed_train_data[train_index], transformed_train_data[test_index]\n",
    "    y_train, y_test = train_label[train_index], train_label[test_index]\n",
    "    pred, model = svc_(X_train, X_test, y_train, y_test)\n",
    "    predictions.append(pred)\n",
    "    models.append(model)"
   ]
  },
  {
   "cell_type": "code",
   "execution_count": 165,
   "id": "c1750a60",
   "metadata": {},
   "outputs": [
    {
     "name": "stdout",
     "output_type": "stream",
     "text": [
      "bird0: 459\n",
      "bird1: 457\n",
      "bird2: 446\n",
      "bird3: 441\n",
      "bird4: 452\n",
      "bird5: 449\n",
      "bird6: 446\n"
     ]
    }
   ],
   "source": [
    "for i in range(7):\n",
    "    print(f\"bird{i}:\",y_train[y_train==i].shape[0])"
   ]
  },
  {
   "cell_type": "code",
   "execution_count": null,
   "id": "e41c9aca",
   "metadata": {},
   "outputs": [],
   "source": []
  },
  {
   "cell_type": "code",
   "execution_count": 35,
   "id": "d9098dbf",
   "metadata": {},
   "outputs": [],
   "source": [
    "train_data = []\n",
    "train_label = []\n",
    "for i in range(0,7):\n",
    "    index = np.random.permutation(labels[labels[\"Aggregated\"] == i].index)\n",
    "    for j in range(500):\n",
    "        train_data.append(data.iloc[index[j]].to_numpy())\n",
    "        train_label.append(i)\n",
    "train_data = np.array(train_data)\n",
    "train_label = np.array(train_label)"
   ]
  },
  {
   "cell_type": "code",
   "execution_count": 37,
   "id": "28892c6e",
   "metadata": {},
   "outputs": [
    {
     "name": "stdout",
     "output_type": "stream",
     "text": [
      "training took 2.92 seconds\n",
      "inference took 0.54 seconds\n",
      "test accuracy: 19.14 percent\n",
      "------------------------------\n",
      "training took 2.89 seconds\n",
      "inference took 0.56 seconds\n",
      "test accuracy: 20.86 percent\n",
      "------------------------------\n",
      "training took 2.81 seconds\n",
      "inference took 0.64 seconds\n",
      "test accuracy: 21.14 percent\n",
      "------------------------------\n",
      "training took 2.86 seconds\n",
      "inference took 0.54 seconds\n",
      "test accuracy: 18.57 percent\n",
      "------------------------------\n",
      "training took 3.15 seconds\n",
      "inference took 0.56 seconds\n",
      "test accuracy: 20.57 percent\n",
      "------------------------------\n",
      "training took 2.97 seconds\n",
      "inference took 0.64 seconds\n",
      "test accuracy: 19.71 percent\n",
      "------------------------------\n",
      "training took 2.87 seconds\n",
      "inference took 0.51 seconds\n",
      "test accuracy: 22.86 percent\n",
      "------------------------------\n",
      "training took 2.92 seconds\n",
      "inference took 0.55 seconds\n",
      "test accuracy: 20.86 percent\n",
      "------------------------------\n",
      "training took 2.92 seconds\n",
      "inference took 0.63 seconds\n",
      "test accuracy: 21.71 percent\n",
      "------------------------------\n",
      "training took 3.02 seconds\n",
      "inference took 0.52 seconds\n",
      "test accuracy: 18.86 percent\n",
      "------------------------------\n"
     ]
    }
   ],
   "source": [
    "scaler = StandardScaler()\n",
    "transformed_train_data = scaler.fit_transform(train_data, train_label)\n",
    "\n",
    "kf = KFold(n_splits=10, shuffle=True, random_state=42)\n",
    "\n",
    "predictions = []\n",
    "models = []\n",
    "for train_index, test_index in kf.split(transformed_train_data):\n",
    "    X_train, X_test = transformed_train_data[train_index], transformed_train_data[test_index]\n",
    "    y_train, y_test = train_label[train_index], train_label[test_index]\n",
    "    pred, model = svc_(X_train, X_test, y_train, y_test)\n",
    "    predictions.append(pred)\n",
    "    models.append(model)"
   ]
  },
  {
   "cell_type": "markdown",
   "id": "8acec193",
   "metadata": {},
   "source": [
    "## Accuracy for different Models"
   ]
  },
  {
   "cell_type": "code",
   "execution_count": 133,
   "id": "c2f3e1fb",
   "metadata": {},
   "outputs": [],
   "source": [
    "test_samples = []\n",
    "test_labels = []\n",
    "for i in range(7):\n",
    "    index = np.random.permutation(labels[labels[\"Aggregated\"] == i].index)\n",
    "    for j in range(300):        \n",
    "        test_samples.append(data.iloc[index[j]].to_numpy())\n",
    "        test_labels.append(i)\n",
    "test_samples = np.array(test_samples)\n",
    "test_labels = np.array(test_labels)\n",
    "\n",
    "scaler = StandardScaler()\n",
    "test_data = scaler.fit_transform(test_samples, test_labels)"
   ]
  },
  {
   "cell_type": "code",
   "execution_count": 134,
   "id": "9423319c",
   "metadata": {},
   "outputs": [],
   "source": [
    "preds = []\n",
    "for m in models:\n",
    "    pred = m.predict(test_data)\n",
    "    preds.append(pred)"
   ]
  },
  {
   "cell_type": "code",
   "execution_count": 137,
   "id": "b92e752e",
   "metadata": {},
   "outputs": [
    {
     "name": "stdout",
     "output_type": "stream",
     "text": [
      "0.44\n",
      "0.43476190476190474\n",
      "0.43857142857142856\n",
      "0.43333333333333335\n",
      "0.43952380952380954\n",
      "0.43666666666666665\n",
      "0.43857142857142856\n",
      "0.44047619047619047\n",
      "0.42952380952380953\n",
      "0.4328571428571429\n"
     ]
    }
   ],
   "source": [
    "for i in range(10):\n",
    "    print(sum(preds[i]-test_labels == 0)/len(test_labels))"
   ]
  },
  {
   "cell_type": "markdown",
   "id": "87b27bce",
   "metadata": {},
   "source": [
    "## Accuracy Class-wise"
   ]
  },
  {
   "cell_type": "code",
   "execution_count": 180,
   "id": "ae28a91b",
   "metadata": {},
   "outputs": [
    {
     "name": "stdout",
     "output_type": "stream",
     "text": [
      "Accuracy for model0\n",
      "1.0\n",
      "0.35333333333333333\n",
      "0.26\n",
      "0.25333333333333335\n",
      "0.48333333333333334\n",
      "0.29333333333333333\n",
      "0.43666666666666665\n",
      "Accuracy for model1\n",
      "1.0\n",
      "0.3466666666666667\n",
      "0.26666666666666666\n",
      "0.26\n",
      "0.47\n",
      "0.2733333333333333\n",
      "0.4266666666666667\n",
      "Accuracy for model2\n",
      "1.0\n",
      "0.3566666666666667\n",
      "0.2966666666666667\n",
      "0.24666666666666667\n",
      "0.48333333333333334\n",
      "0.2733333333333333\n",
      "0.41333333333333333\n",
      "Accuracy for model3\n",
      "1.0\n",
      "0.35333333333333333\n",
      "0.2633333333333333\n",
      "0.25333333333333335\n",
      "0.46\n",
      "0.2866666666666667\n",
      "0.4166666666666667\n",
      "Accuracy for model4\n",
      "1.0\n",
      "0.36333333333333334\n",
      "0.2733333333333333\n",
      "0.24\n",
      "0.48\n",
      "0.30666666666666664\n",
      "0.41333333333333333\n",
      "Accuracy for model5\n",
      "1.0\n",
      "0.35\n",
      "0.2733333333333333\n",
      "0.26\n",
      "0.47\n",
      "0.2833333333333333\n",
      "0.42\n",
      "Accuracy for model6\n",
      "1.0\n",
      "0.33666666666666667\n",
      "0.2866666666666667\n",
      "0.25333333333333335\n",
      "0.48\n",
      "0.31\n",
      "0.4033333333333333\n",
      "Accuracy for model7\n",
      "1.0\n",
      "0.3433333333333333\n",
      "0.2866666666666667\n",
      "0.2633333333333333\n",
      "0.4633333333333333\n",
      "0.2966666666666667\n",
      "0.43\n",
      "Accuracy for model8\n",
      "1.0\n",
      "0.32666666666666666\n",
      "0.2833333333333333\n",
      "0.23333333333333334\n",
      "0.47\n",
      "0.29333333333333333\n",
      "0.4\n",
      "Accuracy for model9\n",
      "1.0\n",
      "0.3333333333333333\n",
      "0.28\n",
      "0.24666666666666667\n",
      "0.4666666666666667\n",
      "0.2866666666666667\n",
      "0.4166666666666667\n"
     ]
    }
   ],
   "source": [
    "for j in range(10):\n",
    "    print(f\"Accuracy for model{j}\")\n",
    "    for i in range(7):\n",
    "        print(sum(preds[j][i*300:(i+1)*300]-test_labels[i*300:(i+1)*300] == 0)/300)"
   ]
  },
  {
   "cell_type": "markdown",
   "id": "6f5d32f6",
   "metadata": {},
   "source": [
    "## Ensemble: Majority Vote"
   ]
  },
  {
   "cell_type": "code",
   "execution_count": 142,
   "id": "00f3d6ed",
   "metadata": {},
   "outputs": [
    {
     "data": {
      "text/plain": [
       "array([0, 0, 0, ..., 0, 0, 0])"
      ]
     },
     "execution_count": 142,
     "metadata": {},
     "output_type": "execute_result"
    }
   ],
   "source": [
    "p = []\n",
    "for i in range(len(preds[0])):\n",
    "    unique, counts = np.unique(np.array(preds)[:,i], return_counts=True)\n",
    "    p.append(unique[np.argmax(counts)])\n",
    "p = np.array(p)\n",
    "p"
   ]
  },
  {
   "cell_type": "code",
   "execution_count": 162,
   "id": "f15b9857",
   "metadata": {},
   "outputs": [
    {
     "data": {
      "text/plain": [
       "0.46"
      ]
     },
     "execution_count": 162,
     "metadata": {},
     "output_type": "execute_result"
    }
   ],
   "source": [
    "sum(p-test_labels == 0)/len(test_labels)"
   ]
  },
  {
   "cell_type": "markdown",
   "id": "5708f9a1",
   "metadata": {},
   "source": [
    "## Ensemble: Choose Class != 0"
   ]
  },
  {
   "cell_type": "code",
   "execution_count": 170,
   "id": "5c51639e",
   "metadata": {},
   "outputs": [
    {
     "data": {
      "text/plain": [
       "array([0, 0, 0, ..., 0, 0, 0])"
      ]
     },
     "execution_count": 170,
     "metadata": {},
     "output_type": "execute_result"
    }
   ],
   "source": [
    "p_ = []\n",
    "for i in range(len(preds[0])):\n",
    "    try:\n",
    "        add = np.array(preds)[:,i][np.array(preds)[:,i]!= 0][0]\n",
    "    except:\n",
    "        add = 0\n",
    "    p_.append(add)\n",
    "p_ = np.array(p_)\n",
    "p_"
   ]
  },
  {
   "cell_type": "code",
   "execution_count": 171,
   "id": "9df54a79",
   "metadata": {},
   "outputs": [
    {
     "data": {
      "text/plain": [
       "0.4614285714285714"
      ]
     },
     "execution_count": 171,
     "metadata": {},
     "output_type": "execute_result"
    }
   ],
   "source": [
    "sum(p_-test_labels == 0)/len(test_labels)"
   ]
  },
  {
   "cell_type": "code",
   "execution_count": null,
   "id": "33643f93",
   "metadata": {},
   "outputs": [],
   "source": []
  },
  {
   "cell_type": "code",
   "execution_count": null,
   "id": "63e8394b",
   "metadata": {},
   "outputs": [],
   "source": []
  },
  {
   "cell_type": "code",
   "execution_count": null,
   "id": "c999ab61",
   "metadata": {},
   "outputs": [],
   "source": []
  },
  {
   "cell_type": "code",
   "execution_count": 155,
   "id": "c084ffd1",
   "metadata": {},
   "outputs": [
    {
     "name": "stdout",
     "output_type": "stream",
     "text": [
      "[0]\n",
      "[10]\n",
      "[0 1]\n",
      "[1 9]\n",
      "[0]\n",
      "[10]\n",
      "[0 1]\n",
      "[1 9]\n",
      "[0 1]\n",
      "[1 9]\n",
      "[0 1]\n",
      "[1 9]\n"
     ]
    }
   ],
   "source": [
    "for i in range(6):\n",
    "    unique, counts = np.unique(np.array(preds)[:,301+i], return_counts=True)\n",
    "    print(unique)\n",
    "    print(counts)"
   ]
  },
  {
   "cell_type": "code",
   "execution_count": 158,
   "id": "3b128d75",
   "metadata": {},
   "outputs": [
    {
     "data": {
      "text/plain": [
       "1"
      ]
     },
     "execution_count": 158,
     "metadata": {},
     "output_type": "execute_result"
    }
   ],
   "source": [
    "unique[np.argmax(counts)]"
   ]
  },
  {
   "cell_type": "code",
   "execution_count": 111,
   "id": "f58a8bb2",
   "metadata": {},
   "outputs": [
    {
     "data": {
      "text/plain": [
       "17.43"
      ]
     },
     "execution_count": 111,
     "metadata": {},
     "output_type": "execute_result"
    }
   ],
   "source": [
    "np.round(sum((p-test_labels)==0)/len(test_labels)*100,\n",
    "                    decimals=2)"
   ]
  },
  {
   "cell_type": "code",
   "execution_count": 150,
   "id": "8d0a02ca",
   "metadata": {},
   "outputs": [
    {
     "name": "stdout",
     "output_type": "stream",
     "text": [
      "training took 62.94 seconds\n",
      "inference took 1.92 seconds\n",
      "test accuracy: 36.86 percent\n"
     ]
    }
   ],
   "source": [
    "model = SVC(C=1, kernel=\"rbf\", gamma=0.9)\n",
    "start_train= time.time()\n",
    "model.fit(train, train_label)\n",
    "end_train = time.time()\n",
    "train_time = np.round(end_train-start_train,decimals=2)\n",
    "print(\"training took {:.2f} seconds\".format(train_time))\n",
    "\n",
    "start_infer= time.time()\n",
    "pred = model.predict(test_samples)\n",
    "end_infer = time.time()\n",
    "infer_time = np.round(end_infer-start_infer,decimals=2)\n",
    "print(\"inference took {:.2f} seconds\".format(infer_time))\n",
    "\n",
    "accuracy = np.round(sum((pred-test_labels)==0)/len(test_labels)*100,\n",
    "                    decimals=2)\n",
    "print(\"test accuracy: {:.2f} percent\".format(accuracy))"
   ]
  },
  {
   "cell_type": "code",
   "execution_count": 141,
   "id": "d8f655d9",
   "metadata": {},
   "outputs": [
    {
     "name": "stdout",
     "output_type": "stream",
     "text": [
      "C=0.1 and gamma=0.1\n",
      "training took 3.93 seconds\n",
      "inference took 0.67 seconds\n",
      "test accuracy: 22.29 percent\n",
      "------------------------------\n",
      "C=0.1 and gamma=0.5\n",
      "training took 4.06 seconds\n",
      "inference took 0.71 seconds\n",
      "test accuracy: 22.29 percent\n",
      "------------------------------\n",
      "C=0.1 and gamma=0.9\n",
      "training took 3.89 seconds\n",
      "inference took 0.62 seconds\n",
      "test accuracy: 22.29 percent\n",
      "------------------------------\n",
      "C=1 and gamma=0.1\n",
      "training took 4.09 seconds\n",
      "inference took 0.62 seconds\n",
      "test accuracy: 22.29 percent\n",
      "------------------------------\n",
      "C=1 and gamma=0.5\n",
      "training took 4.20 seconds\n",
      "inference took 0.64 seconds\n",
      "test accuracy: 22.29 percent\n",
      "------------------------------\n",
      "C=1 and gamma=0.9\n",
      "training took 4.21 seconds\n",
      "inference took 0.62 seconds\n",
      "test accuracy: 22.29 percent\n",
      "------------------------------\n",
      "C=10 and gamma=0.1\n",
      "training took 4.18 seconds\n",
      "inference took 0.67 seconds\n",
      "test accuracy: 22.29 percent\n",
      "------------------------------\n",
      "C=10 and gamma=0.5\n",
      "training took 4.05 seconds\n",
      "inference took 0.64 seconds\n",
      "test accuracy: 22.29 percent\n",
      "------------------------------\n",
      "C=10 and gamma=0.9\n",
      "training took 4.00 seconds\n",
      "inference took 0.58 seconds\n",
      "test accuracy: 22.29 percent\n",
      "------------------------------\n",
      "C=100 and gamma=0.1\n",
      "training took 4.01 seconds\n",
      "inference took 0.59 seconds\n",
      "test accuracy: 22.29 percent\n",
      "------------------------------\n",
      "C=100 and gamma=0.5\n",
      "training took 3.95 seconds\n",
      "inference took 0.64 seconds\n",
      "test accuracy: 22.29 percent\n",
      "------------------------------\n",
      "C=100 and gamma=0.9\n",
      "training took 4.15 seconds\n",
      "inference took 0.66 seconds\n",
      "test accuracy: 22.29 percent\n",
      "------------------------------\n"
     ]
    }
   ],
   "source": [
    "c_values = [0.1, 1, 10, 100]\n",
    "gamma_values = [0.1, 0.5, 0.9]\n",
    "for c in c_values:\n",
    "    for gamma in gamma_values:\n",
    "        print(f\"C={c} and gamma={gamma}\")\n",
    "        model = SVC(C=c, kernel=\"rbf\", gamma=gamma)\n",
    "        start_train= time.time()\n",
    "        model.fit(train, train_label)\n",
    "        end_train = time.time()\n",
    "        train_time = np.round(end_train-start_train,decimals=2)\n",
    "        print(\"training took {:.2f} seconds\".format(train_time))\n",
    "        \n",
    "        start_infer= time.time()\n",
    "        pred = model.predict(test_samples)\n",
    "        end_infer = time.time()\n",
    "        infer_time = np.round(end_infer-start_infer,decimals=2)\n",
    "        print(\"inference took {:.2f} seconds\".format(infer_time))\n",
    "\n",
    "        accuracy = np.round(sum((pred-test_labels)==0)/len(test_labels)*100,\n",
    "                            decimals=2)\n",
    "        print(\"test accuracy: {:.2f} percent\".format(accuracy))\n",
    "        print(30*\"-\")"
   ]
  },
  {
   "cell_type": "code",
   "execution_count": 119,
   "id": "7704e6d4",
   "metadata": {},
   "outputs": [
    {
     "name": "stdout",
     "output_type": "stream",
     "text": [
      "[0 0 0 0 0 0 0 0 0 0 0 0 0 0 0 0 0 0 0 0 0 0 0 0 0 0 0 0 0 0 0 0 0 0 0 0 0\n",
      " 0 0 0 0 0 0 0 0 0 0 0 0 0 0 1 0 0 0 0 0 0 0 0 0 0 0 0 0 0 1 1 0 0 0 0 0 0\n",
      " 0 0 0 0 0 0 0 0 1 0 0 0 0 0 1 1 0 1 0 1 0 1 0 0 0 0 0 0 0 0 0 0 2 0 0 2 0\n",
      " 0 0 0 0 0 0 0 0 0 0 0 0 0 0 0 0 0 0 0 0 0 0 0 0 0 0 0 0 0 0 0 0 0 0 0 0 0\n",
      " 0 0 0 0 0 0 0 0 0 0 0 0 3 0 0 0 0 3 0 0 0 0 0 0 0 0 0 0 0 0 0 0 0 3 0 0 0\n",
      " 0 0 0 0 0 0 0 0 3 0 0 0 0 0 0 0 0 0 0 0 0 4 0 4 0 0 0 0 4 0 0 0 0 0 0 0 0\n",
      " 4 4 0 4 0 0 0 4 4 0 0 4 0 4 0 4 0 0 4 4 4 0 0 0 0 4 0 4 0 0 0 5 5 0 5 0 0\n",
      " 0 5 0 0 5 0 0 0 0 0 0 0 0 0 0 0 0 0 0 0 0 0 0 0 0 5 0 0 0 5 0 5 0 0 0 5 0\n",
      " 0 5 0 0 0 0 6 0 0 0 0 0 6 0 0 0 6 0 6 0 0 0 0 6 0 0 0 0 0 6 0 0 0 0 6 0 0\n",
      " 0 0 0 0 0 0 0 0 0 0 0 0 0 0 0 6 0]\n"
     ]
    }
   ],
   "source": [
    "print(pred)"
   ]
  },
  {
   "cell_type": "code",
   "execution_count": 106,
   "id": "4f1897c1",
   "metadata": {},
   "outputs": [
    {
     "data": {
      "text/plain": [
       "array([0, 0, 0, 0, 0, 0, 0, 0, 6, 6, 0, 0, 6, 6, 0, 0, 6, 0, 6, 0, 0, 0,\n",
       "       0, 0, 0, 0, 0, 6, 0, 0, 0, 0, 0, 0, 0, 0, 6, 0, 0, 0, 0, 0, 0, 0,\n",
       "       0, 0, 6, 0, 0, 0])"
      ]
     },
     "execution_count": 106,
     "metadata": {},
     "output_type": "execute_result"
    }
   ],
   "source": [
    "pred[250:300]"
   ]
  },
  {
   "cell_type": "code",
   "execution_count": 134,
   "id": "0ab8ee2d",
   "metadata": {},
   "outputs": [
    {
     "name": "stdout",
     "output_type": "stream",
     "text": [
      "training took 22.32 seconds\n",
      "inference took 1.33 seconds\n",
      "test accuracy: 28.29 percent\n"
     ]
    }
   ],
   "source": [
    "model = SVC(C=1, kernel=\"rbf\", gamma=0.9)\n",
    "start_train= time.time()\n",
    "model.fit(train, train_label)\n",
    "end_train = time.time()\n",
    "train_time = np.round(end_train-start_train,decimals=2)\n",
    "print(\"training took {:.2f} seconds\".format(train_time))\n",
    "\n",
    "start_infer= time.time()\n",
    "pred = model.predict(test_samples)\n",
    "end_infer = time.time()\n",
    "infer_time = np.round(end_infer-start_infer,decimals=2)\n",
    "print(\"inference took {:.2f} seconds\".format(infer_time))\n",
    "\n",
    "accuracy = np.round(sum((pred-test_labels)==0)/len(test_labels)*100,\n",
    "                    decimals=2)\n",
    "print(\"test accuracy: {:.2f} percent\".format(accuracy))"
   ]
  },
  {
   "cell_type": "code",
   "execution_count": 135,
   "id": "002de0bc",
   "metadata": {},
   "outputs": [
    {
     "data": {
      "text/plain": [
       "array([0, 0, 0, 0, 0, 0, 0, 0, 0, 0, 0, 0, 0, 0, 0, 0, 0, 0, 0, 0, 0, 0,\n",
       "       0, 0, 0, 0, 0, 0, 0, 0, 0, 0, 0, 0, 0, 0, 0, 0, 0, 0, 0, 0, 0, 0,\n",
       "       0, 0, 0, 0, 0, 0, 1, 1, 1, 1, 1, 1, 1, 1, 1, 1, 1, 1, 1, 1, 1, 1,\n",
       "       1, 1, 1, 1, 1, 1, 1, 1, 1, 1, 1, 1, 1, 1, 1, 1, 1, 1, 1, 1, 1, 1,\n",
       "       1, 1, 1, 1, 1, 1, 1, 1, 1, 1, 1, 1, 2, 2, 2, 2, 2, 2, 2, 2, 2, 2,\n",
       "       2, 2, 2, 2, 2, 2, 2, 2, 2, 2, 2, 2, 2, 2, 2, 2, 2, 2, 2, 2, 2, 2,\n",
       "       2, 2, 2, 2, 2, 2, 2, 2, 2, 2, 2, 2, 2, 2, 2, 2, 2, 2, 3, 3, 3, 3,\n",
       "       3, 3, 3, 3, 3, 3, 3, 3, 3, 3, 3, 3, 3, 3, 3, 3, 3, 3, 3, 3, 3, 3,\n",
       "       3, 3, 3, 3, 3, 3, 3, 3, 3, 3, 3, 3, 3, 3, 3, 3, 3, 3, 3, 3, 3, 3,\n",
       "       3, 3, 4, 4, 4, 4, 4, 4, 4, 4, 4, 4, 4, 4, 4, 4, 4, 4, 4, 4, 4, 4,\n",
       "       4, 4, 4, 4, 4, 4, 4, 4, 4, 4, 4, 4, 4, 4, 4, 4, 4, 4, 4, 4, 4, 4,\n",
       "       4, 4, 4, 4, 4, 4, 4, 4, 5, 5, 5, 5, 5, 5, 5, 5, 5, 5, 5, 5, 5, 5,\n",
       "       5, 5, 5, 5, 5, 5, 5, 5, 5, 5, 5, 5, 5, 5, 5, 5, 5, 5, 5, 5, 5, 5,\n",
       "       5, 5, 5, 5, 5, 5, 5, 5, 5, 5, 5, 5, 5, 5, 6, 6, 6, 6, 6, 6, 6, 6,\n",
       "       6, 6, 6, 6, 6, 6, 6, 6, 6, 6, 6, 6, 6, 6, 6, 6, 6, 6, 6, 6, 6, 6,\n",
       "       6, 6, 6, 6, 6, 6, 6, 6, 6, 6, 6, 6, 6, 6, 6, 6, 6, 6, 6, 6])"
      ]
     },
     "execution_count": 135,
     "metadata": {},
     "output_type": "execute_result"
    }
   ],
   "source": [
    "test_labels"
   ]
  },
  {
   "cell_type": "code",
   "execution_count": 136,
   "id": "d18dde51",
   "metadata": {},
   "outputs": [
    {
     "data": {
      "text/plain": [
       "array([0, 0, 0, 0, 0, 0, 0, 0, 0, 0, 0, 0, 0, 0, 0, 0, 0, 0, 0, 0, 0, 0,\n",
       "       0, 0, 0, 0, 0, 0, 0, 0, 0, 0, 0, 0, 0, 0, 0, 0, 0, 0, 0, 0, 0, 0,\n",
       "       0, 0, 0, 0, 0, 0, 0, 1, 0, 0, 0, 0, 0, 0, 0, 0, 0, 0, 0, 0, 0, 0,\n",
       "       1, 1, 0, 0, 0, 0, 0, 0, 0, 0, 0, 0, 0, 0, 0, 0, 1, 0, 0, 0, 0, 0,\n",
       "       1, 1, 0, 1, 0, 1, 0, 1, 0, 0, 0, 0, 0, 0, 0, 0, 0, 0, 2, 0, 0, 2,\n",
       "       0, 0, 0, 0, 0, 0, 0, 0, 0, 0, 0, 0, 0, 0, 0, 0, 0, 0, 0, 0, 0, 0,\n",
       "       0, 0, 0, 0, 0, 0, 0, 0, 0, 0, 0, 0, 0, 0, 0, 0, 0, 0, 0, 0, 0, 0,\n",
       "       0, 0, 0, 0, 0, 0, 3, 0, 0, 0, 0, 3, 0, 0, 0, 0, 0, 0, 0, 0, 0, 0,\n",
       "       0, 0, 0, 0, 0, 3, 0, 0, 0, 0, 0, 0, 0, 0, 0, 0, 0, 3, 0, 0, 0, 0,\n",
       "       0, 0, 0, 0, 0, 0, 0, 0, 4, 0, 4, 0, 0, 0, 0, 4, 0, 0, 0, 0, 0, 0,\n",
       "       0, 0, 4, 4, 0, 4, 0, 0, 0, 4, 4, 0, 0, 4, 0, 4, 0, 4, 0, 0, 4, 4,\n",
       "       4, 0, 0, 0, 0, 4, 0, 4, 0, 0, 0, 5, 5, 0, 5, 0, 0, 0, 5, 0, 0, 5,\n",
       "       0, 0, 0, 0, 0, 0, 0, 0, 0, 0, 0, 0, 0, 0, 0, 0, 0, 0, 0, 0, 5, 0,\n",
       "       0, 0, 5, 0, 5, 0, 0, 0, 5, 0, 0, 5, 0, 0, 0, 0, 6, 0, 0, 0, 0, 0,\n",
       "       6, 0, 0, 0, 6, 0, 6, 0, 0, 0, 0, 6, 0, 0, 0, 0, 0, 6, 0, 0, 0, 0,\n",
       "       6, 0, 0, 0, 0, 0, 0, 0, 0, 0, 0, 0, 0, 0, 0, 0, 0, 0, 6, 0])"
      ]
     },
     "execution_count": 136,
     "metadata": {},
     "output_type": "execute_result"
    }
   ],
   "source": [
    "pred"
   ]
  },
  {
   "cell_type": "code",
   "execution_count": null,
   "id": "b5c68436",
   "metadata": {},
   "outputs": [],
   "source": []
  },
  {
   "cell_type": "code",
   "execution_count": null,
   "id": "74122329",
   "metadata": {},
   "outputs": [],
   "source": []
  },
  {
   "cell_type": "code",
   "execution_count": 24,
   "id": "3558cc56",
   "metadata": {},
   "outputs": [],
   "source": [
    "# Edis: Decision Trees/ Random Forests\n",
    "# Dmytro: KNN/ Naive Bayes\n",
    "# Jonathan: SVMs\n",
    "# Hussein: ANN"
   ]
  }
 ],
 "metadata": {
  "kernelspec": {
   "display_name": "Python 3 (ipykernel)",
   "language": "python",
   "name": "python3"
  },
  "language_info": {
   "codemirror_mode": {
    "name": "ipython",
    "version": 3
   },
   "file_extension": ".py",
   "mimetype": "text/x-python",
   "name": "python",
   "nbconvert_exporter": "python",
   "pygments_lexer": "ipython3",
   "version": "3.9.12"
  }
 },
 "nbformat": 4,
 "nbformat_minor": 5
}
