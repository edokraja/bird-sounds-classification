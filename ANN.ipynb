{
 "cells": [
  {
   "cell_type": "code",
   "execution_count": 34,
   "metadata": {},
   "outputs": [],
   "source": [
    "# data and labels uncut -> 72%\n",
    "# data and labels without the class no birds -> 52% looks like its bad with classifiying birds\n",
    "# data and labels without clean data -> 74%\n",
    "# data and labels with non redundant features -> 79%\n",
    "# data and labels without clean data and with non redundant features -> 76%\n",
    "# data and labels with non redundant features and use 8 layers instead of 7-> 78% almost the same as 7 layers gonna stick w 7\n",
    "# data and labels with non redundant features and no birds -> 61 %\n",
    "# data and labels with non redundant features and classify bird exist or not -> 88%\n",
    "# data and labels with non redundant features and nobirds dropped till largest group of birds -> 77%\n",
    "# data and labels with non redundant features and classify bird exist or not and 6 layers-> 88%\n",
    "# new data split uncut -> 53%\n",
    "# new data split with non redundant features -> 61 %\n",
    "# new data split with non redundant features and normalized -> 89 %\n",
    "# data split with non redundant features and normalized -> 84 %\n",
    "# new data split with non redundant features threshold 0.75 -> 88%\n",
    "# new data split with non redundant features threshold 0.8 and robust normalization -> 96.4%"
   ]
  },
  {
   "cell_type": "code",
   "execution_count": 57,
   "metadata": {
    "pycharm": {
     "name": "#%%\n"
    }
   },
   "outputs": [],
   "source": [
    "import os\n",
    "import numpy as np\n",
    "import pandas as pd\n",
    "from sklearn.model_selection import KFold\n",
    "import torch\n",
    "import torch.nn as nn\n",
    "import torch.optim as optim\n",
    "from torch.utils.data import TensorDataset, DataLoader\n",
    "from tqdm import tqdm"
   ]
  },
  {
   "cell_type": "code",
   "execution_count": 58,
   "metadata": {
    "pycharm": {
     "name": "#%%\n"
    }
   },
   "outputs": [],
   "source": [
    "data = pd.read_csv('./dataset/new/new_data.csv').drop(columns=\"Unnamed: 0\")\n",
    "labels = pd.DataFrame(pd.read_csv('./dataset/new/new_labels.csv')[\"Aggregated\"])"
   ]
  },
  {
   "cell_type": "code",
   "execution_count": 55,
   "metadata": {
    "pycharm": {
     "name": "#%%\n"
    }
   },
   "outputs": [],
   "source": [
    "# kf = KFold(n_splits=5, shuffle=True, random_state=42)\n",
    "\n",
    "# for fold, (train_index, test_index) in enumerate(kf.split(data)):\n",
    "#     print(f\"Fold {fold}\")\n",
    "#     X_train, X_test = data.iloc[train_index], data.iloc[test_index]\n",
    "#     y_train, y_test = labels.iloc[train_index], labels.iloc[test_index]\n",
    "\n",
    "#     # Convert data and labels to PyTorch tensors\n",
    "#     X_train_tensor = torch.tensor(X_train.values, dtype=torch.float32)\n",
    "#     X_test_tensor = torch.tensor(X_test.values, dtype=torch.float32)\n",
    "#     y_train_tensor = torch.tensor(y_train.values, dtype=torch.int64)\n",
    "#     y_test_tensor = torch.tensor(y_test.values, dtype=torch.int64)\n",
    "\n",
    "# train_data = []\n",
    "# train_label = []\n",
    "# for i in range(0,7):\n",
    "#     index = labels[labels == 1].sample(2324).index\n",
    "#     for j in range(2324):\n",
    "#         train_data.append(data.iloc[index[j]].to_numpy())\n",
    "#         train_label.append(i)\n",
    "\n",
    "# train_data = np.array(train_data)\n",
    "# train_label = np.array(train_label)"
   ]
  },
  {
   "cell_type": "code",
   "execution_count": 59,
   "metadata": {
    "pycharm": {
     "name": "#%%\n"
    }
   },
   "outputs": [],
   "source": [
    "class MyModel(nn.Module):\n",
    "    def __init__(self, input_dim, output_dim):\n",
    "        super(MyModel, self).__init__()\n",
    "        self.fc1 = nn.Linear(input_dim, 512)\n",
    "        self.fc2 = nn.Linear(512, 256)\n",
    "        self.fc3 = nn.Linear(256, 128)\n",
    "        self.fc4 = nn.Linear(128, 64)\n",
    "        self.fc5 = nn.Linear(64, 32)\n",
    "        self.fc6 = nn.Linear(32, 16)\n",
    "        self.fc7 = nn.Linear(16, output_dim)\n",
    "        self.relu = nn.ReLU()\n",
    "        self.softmax = nn.Softmax(dim=1)\n",
    "\n",
    "    def forward(self, x):\n",
    "        x = self.fc1(x)\n",
    "        x = self.relu(x)\n",
    "        x = self.fc2(x)\n",
    "        x = self.relu(x)\n",
    "        x = self.fc3(x)\n",
    "        x = self.relu(x)\n",
    "        x = self.fc4(x)\n",
    "        x = self.relu(x)\n",
    "        x = self.fc5(x)\n",
    "        x = self.relu(x)\n",
    "        x = self.fc6(x)\n",
    "        x = self.relu(x)\n",
    "        x = self.fc7(x)\n",
    "        x = self.softmax(x)\n",
    "        return x"
   ]
  },
  {
   "cell_type": "code",
   "execution_count": 60,
   "metadata": {
    "pycharm": {
     "name": "#%%\n"
    }
   },
   "outputs": [],
   "source": [
    "# Define the hyperparameters\n",
    "input_dim = 548\n",
    "hidden_dim = 64\n",
    "output_dim = 7\n",
    "lr = 0.0001\n",
    "batch_size = 64\n",
    "num_epochs = 10"
   ]
  },
  {
   "cell_type": "code",
   "execution_count": 61,
   "metadata": {},
   "outputs": [],
   "source": [
    "correlation_matrix = data.corr()\n",
    "mask = np.triu(np.ones_like(correlation_matrix, dtype=bool))\n",
    "reduced_matrix = correlation_matrix.mask(mask)\n",
    "feature_redundancy = reduced_matrix.abs().sum()\n",
    "sorted_features = feature_redundancy.sort_values(ascending=False)\n",
    "\n",
    "threshold = 0.8\n",
    "selected_features = []\n",
    "for feature in sorted_features.index:\n",
    "    if not any(np.abs(correlation_matrix[feature][selected_features]) > threshold):\n",
    "        selected_features.append(feature)\n",
    "\n",
    "data = data[selected_features]"
   ]
  },
  {
   "cell_type": "code",
   "execution_count": 62,
   "metadata": {},
   "outputs": [],
   "source": [
    "from sklearn.preprocessing import RobustScaler\n",
    "\n",
    "# Initialize the RobustScaler\n",
    "scaler = RobustScaler()\n",
    "\n",
    "# Apply Robust Scaling to the DataFrame\n",
    "scaled_data = scaler.fit_transform(data)\n",
    "\n",
    "# Convert the scaled data back to a DataFrame\n",
    "data = pd.DataFrame(scaled_data, columns=data.columns)"
   ]
  },
  {
   "cell_type": "code",
   "execution_count": 63,
   "metadata": {
    "pycharm": {
     "name": "#%%\n"
    }
   },
   "outputs": [],
   "source": [
    "# Convert data and targets to numpy arrays\n",
    "input_dim = len(data.columns)\n",
    "data = data.to_numpy()\n",
    "targets = labels.to_numpy().squeeze()"
   ]
  },
  {
   "cell_type": "code",
   "execution_count": 64,
   "metadata": {
    "pycharm": {
     "name": "#%%\n"
    }
   },
   "outputs": [
    {
     "name": "stdout",
     "output_type": "stream",
     "text": [
      "Fold 1\n",
      "Fold 1, Validation Loss: 1.1997 Accuracy: 0.9668\n",
      "Fold 2\n",
      "Fold 2, Validation Loss: 1.1976 Accuracy: 0.9674\n",
      "Fold 3\n",
      "Fold 3, Validation Loss: 1.1997 Accuracy: 0.9652\n",
      "Fold 4\n",
      "Fold 4, Validation Loss: 1.2090 Accuracy: 0.9567\n",
      "Fold 5\n",
      "Fold 5, Validation Loss: 1.2023 Accuracy: 0.9639\n",
      "Total acc: 0.9639922231154348\n"
     ]
    }
   ],
   "source": [
    "# Define the cross-validation method\n",
    "kf = KFold(n_splits=5, shuffle=True, random_state=1234)\n",
    "\n",
    "# Loop over the folds\n",
    "fold_accuracies = []\n",
    "for fold_idx, (train_idx, val_idx) in enumerate(kf.split(data)):\n",
    "    print(f'Fold {fold_idx+1}')\n",
    "\n",
    "    # Split the data into training and validation sets\n",
    "    train_data, train_targets = data[train_idx], targets[train_idx]\n",
    "    val_data, val_targets = data[val_idx], targets[val_idx]\n",
    "\n",
    "    # Create the dataloaders for training and validation\n",
    "    train_dataset = TensorDataset(torch.tensor(train_data, dtype=torch.float32), torch.tensor(train_targets, dtype=torch.long))\n",
    "    train_dataloader = DataLoader(train_dataset, batch_size=batch_size, shuffle=True)\n",
    "    val_dataset = TensorDataset(torch.tensor(val_data, dtype=torch.float32), torch.tensor(val_targets, dtype=torch.long))\n",
    "    val_dataloader = DataLoader(val_dataset, batch_size=batch_size)\n",
    "\n",
    "    # Create the model, optimizer and loss function\n",
    "    model = MyModel(input_dim, output_dim)\n",
    "    optimizer = optim.Adam(model.parameters(), lr=lr)\n",
    "    criterion = nn.CrossEntropyLoss()\n",
    "\n",
    "    # Train the model\n",
    "    for epoch in range(num_epochs):\n",
    "        running_loss = 0.0\n",
    "        for i, (inputs, labels) in enumerate(train_dataloader):\n",
    "            # Zero the parameter gradients\n",
    "            optimizer.zero_grad()\n",
    "\n",
    "            # Forward + backward + optimize\n",
    "            outputs = model(inputs)\n",
    "            loss = criterion(outputs, labels)\n",
    "            loss.backward()\n",
    "            optimizer.step()\n",
    "\n",
    "            # Print statistics\n",
    "            running_loss += loss.item()\n",
    "            if i % 1000 == 999:    # Print every 1000 mini-batches\n",
    "                print(f'Epoch {epoch+1}, Batch {i+1}: loss = {running_loss/1000:.3f}')\n",
    "                running_loss = 0.0\n",
    "\n",
    "    # Evaluate the model on the validation set\n",
    "    model.eval()\n",
    "    correct = 0\n",
    "    total = 0\n",
    "    val_loss = 0.0\n",
    "    with torch.no_grad():\n",
    "        for inputs, labels in val_dataloader:\n",
    "            outputs = model(inputs)\n",
    "            loss = criterion(outputs, labels)\n",
    "            val_loss += loss.item()\n",
    "            _, predicted = torch.max(outputs.data, 1)\n",
    "            total += labels.size(0)\n",
    "            correct += (predicted == labels).sum().item()\n",
    "    val_loss /= len(val_dataloader)\n",
    "    accuracy = correct / total\n",
    "\n",
    "    fold_accuracies.append(accuracy)\n",
    "    print(f\"Fold {fold_idx+1}, Validation Loss: {val_loss:.4f} Accuracy: {accuracy:.4f}\")\n",
    "\n",
    "# Print the average accuracy\n",
    "print(f\"Total acc: {np.array(fold_accuracies).mean()}\")"
   ]
  },
  {
   "cell_type": "code",
   "execution_count": 65,
   "metadata": {
    "pycharm": {
     "name": "#%%\n"
    }
   },
   "outputs": [
    {
     "data": {
      "text/plain": [
       "[0.966796875,\n",
       " 0.9674479166666666,\n",
       " 0.9651692708333334,\n",
       " 0.9566916313904266,\n",
       " 0.963855421686747]"
      ]
     },
     "execution_count": 65,
     "metadata": {},
     "output_type": "execute_result"
    }
   ],
   "source": [
    "fold_accuracies\n"
   ]
  },
  {
   "cell_type": "code",
   "execution_count": 66,
   "metadata": {
    "pycharm": {
     "name": "#%%\n"
    }
   },
   "outputs": [
    {
     "name": "stdout",
     "output_type": "stream",
     "text": [
      "Total acc: 0.9639922231154348\n"
     ]
    }
   ],
   "source": [
    "print(f\"Total acc: {np.array(fold_accuracies).mean()}\")"
   ]
  },
  {
   "cell_type": "code",
   "execution_count": null,
   "metadata": {
    "collapsed": true
   },
   "outputs": [],
   "source": []
  }
 ],
 "metadata": {
  "kernelspec": {
   "display_name": "Python 3 (ipykernel)",
   "language": "python",
   "name": "python3"
  },
  "language_info": {
   "codemirror_mode": {
    "name": "ipython",
    "version": 3
   },
   "file_extension": ".py",
   "mimetype": "text/x-python",
   "name": "python",
   "nbconvert_exporter": "python",
   "pygments_lexer": "ipython3",
   "version": "3.9.16"
  }
 },
 "nbformat": 4,
 "nbformat_minor": 1
}
