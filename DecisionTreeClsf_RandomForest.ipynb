{
 "cells": [
  {
   "cell_type": "code",
   "execution_count": 43,
   "id": "a3ed00db-5368-48ff-a71a-5ac6b774b449",
   "metadata": {},
   "outputs": [],
   "source": [
    "from sklearn.model_selection import KFold\n",
    "from sklearn.tree import DecisionTreeClassifier\n",
    "from sklearn.metrics import accuracy_score\n",
    "import numpy as np\n",
    "import pandas as pd\n",
    "import os\n",
    "from sklearn.tree import DecisionTreeRegressor\n",
    "from sklearn.metrics import mean_squared_error\n",
    "from sklearn.preprocessing import StandardScaler\n",
    "from sklearn.preprocessing import RobustScaler"
   ]
  },
  {
   "cell_type": "code",
   "execution_count": 3,
   "id": "fba0e382-e887-4a59-a977-71b36e2df054",
   "metadata": {},
   "outputs": [],
   "source": [
    "data = pd.read_csv('./dataset/new/data.csv').drop(columns=\"Unnamed: 0\")\n",
    "labels = pd.read_csv('./dataset/new/labels.csv')"
   ]
  },
  {
   "cell_type": "code",
   "execution_count": 4,
   "id": "e044fb34-30c7-4fc5-9c51-c7ec3500a135",
   "metadata": {},
   "outputs": [],
   "source": [
    "col_to_add = labels.iloc[:, 1]\n",
    "\n",
    "# concatenate the two DataFrames along axis=1 (i.e., add a column to df1)\n",
    "data = pd.concat([data, col_to_add], axis=1)"
   ]
  },
  {
   "cell_type": "code",
   "execution_count": 4,
   "id": "fce052bc-3469-43de-93db-a6477e9dd08e",
   "metadata": {},
   "outputs": [
    {
     "data": {
      "text/html": [
       "<div>\n",
       "<style scoped>\n",
       "    .dataframe tbody tr th:only-of-type {\n",
       "        vertical-align: middle;\n",
       "    }\n",
       "\n",
       "    .dataframe tbody tr th {\n",
       "        vertical-align: top;\n",
       "    }\n",
       "\n",
       "    .dataframe thead th {\n",
       "        text-align: right;\n",
       "    }\n",
       "</style>\n",
       "<table border=\"1\" class=\"dataframe\">\n",
       "  <thead>\n",
       "    <tr style=\"text-align: right;\">\n",
       "      <th></th>\n",
       "      <th>zcr_mean</th>\n",
       "      <th>zcr_std</th>\n",
       "      <th>yin_0</th>\n",
       "      <th>yin_1</th>\n",
       "      <th>yin_2</th>\n",
       "      <th>yin_3</th>\n",
       "      <th>yin_4</th>\n",
       "      <th>yin_5</th>\n",
       "      <th>yin_6</th>\n",
       "      <th>yin_7</th>\n",
       "      <th>...</th>\n",
       "      <th>cln_contrast_mean_5</th>\n",
       "      <th>cln_contrast_mean_6</th>\n",
       "      <th>cln_contrast_std_0</th>\n",
       "      <th>cln_contrast_std_1</th>\n",
       "      <th>cln_contrast_std_2</th>\n",
       "      <th>cln_contrast_std_3</th>\n",
       "      <th>cln_contrast_std_4</th>\n",
       "      <th>cln_contrast_std_5</th>\n",
       "      <th>cln_contrast_std_6</th>\n",
       "      <th>Aggregated</th>\n",
       "    </tr>\n",
       "  </thead>\n",
       "  <tbody>\n",
       "    <tr>\n",
       "      <th>0</th>\n",
       "      <td>0.166783</td>\n",
       "      <td>0.079440</td>\n",
       "      <td>490.95706</td>\n",
       "      <td>491.75300</td>\n",
       "      <td>488.98358</td>\n",
       "      <td>485.07758</td>\n",
       "      <td>469.73868</td>\n",
       "      <td>513.68710</td>\n",
       "      <td>512.65735</td>\n",
       "      <td>245.0429</td>\n",
       "      <td>...</td>\n",
       "      <td>13.885087</td>\n",
       "      <td>17.060001</td>\n",
       "      <td>6.169077</td>\n",
       "      <td>3.001384</td>\n",
       "      <td>3.211213</td>\n",
       "      <td>4.549636</td>\n",
       "      <td>3.261581</td>\n",
       "      <td>3.175519</td>\n",
       "      <td>1.371739</td>\n",
       "      <td>0</td>\n",
       "    </tr>\n",
       "    <tr>\n",
       "      <th>1</th>\n",
       "      <td>0.241420</td>\n",
       "      <td>0.026630</td>\n",
       "      <td>467.41357</td>\n",
       "      <td>516.48170</td>\n",
       "      <td>515.56213</td>\n",
       "      <td>514.21027</td>\n",
       "      <td>509.39246</td>\n",
       "      <td>510.75034</td>\n",
       "      <td>511.41998</td>\n",
       "      <td>511.0642</td>\n",
       "      <td>...</td>\n",
       "      <td>14.805115</td>\n",
       "      <td>17.158812</td>\n",
       "      <td>4.463205</td>\n",
       "      <td>3.956305</td>\n",
       "      <td>1.962520</td>\n",
       "      <td>2.206298</td>\n",
       "      <td>2.378360</td>\n",
       "      <td>1.921748</td>\n",
       "      <td>2.072176</td>\n",
       "      <td>0</td>\n",
       "    </tr>\n",
       "    <tr>\n",
       "      <th>2</th>\n",
       "      <td>0.264509</td>\n",
       "      <td>0.023550</td>\n",
       "      <td>511.84506</td>\n",
       "      <td>508.17822</td>\n",
       "      <td>509.49075</td>\n",
       "      <td>509.44510</td>\n",
       "      <td>513.54913</td>\n",
       "      <td>512.35550</td>\n",
       "      <td>514.46606</td>\n",
       "      <td>515.2646</td>\n",
       "      <td>...</td>\n",
       "      <td>13.215790</td>\n",
       "      <td>16.725847</td>\n",
       "      <td>1.774137</td>\n",
       "      <td>3.766160</td>\n",
       "      <td>2.463165</td>\n",
       "      <td>1.830873</td>\n",
       "      <td>3.058117</td>\n",
       "      <td>1.740199</td>\n",
       "      <td>1.977650</td>\n",
       "      <td>0</td>\n",
       "    </tr>\n",
       "    <tr>\n",
       "      <th>3</th>\n",
       "      <td>0.295410</td>\n",
       "      <td>0.016382</td>\n",
       "      <td>514.25470</td>\n",
       "      <td>512.56980</td>\n",
       "      <td>4576.39400</td>\n",
       "      <td>4567.56050</td>\n",
       "      <td>4576.48800</td>\n",
       "      <td>4655.34030</td>\n",
       "      <td>4689.93850</td>\n",
       "      <td>4697.4040</td>\n",
       "      <td>...</td>\n",
       "      <td>13.193249</td>\n",
       "      <td>16.734816</td>\n",
       "      <td>3.230220</td>\n",
       "      <td>3.042296</td>\n",
       "      <td>3.633888</td>\n",
       "      <td>2.285815</td>\n",
       "      <td>2.923266</td>\n",
       "      <td>1.529872</td>\n",
       "      <td>1.633861</td>\n",
       "      <td>0</td>\n",
       "    </tr>\n",
       "    <tr>\n",
       "      <th>4</th>\n",
       "      <td>0.292899</td>\n",
       "      <td>0.026179</td>\n",
       "      <td>462.35953</td>\n",
       "      <td>4722.73050</td>\n",
       "      <td>4718.76900</td>\n",
       "      <td>4696.35940</td>\n",
       "      <td>4698.63870</td>\n",
       "      <td>4731.37550</td>\n",
       "      <td>4714.80960</td>\n",
       "      <td>4737.3643</td>\n",
       "      <td>...</td>\n",
       "      <td>12.740884</td>\n",
       "      <td>16.750946</td>\n",
       "      <td>3.083272</td>\n",
       "      <td>2.659685</td>\n",
       "      <td>3.981223</td>\n",
       "      <td>3.348599</td>\n",
       "      <td>2.550901</td>\n",
       "      <td>1.909587</td>\n",
       "      <td>1.636644</td>\n",
       "      <td>0</td>\n",
       "    </tr>\n",
       "  </tbody>\n",
       "</table>\n",
       "<p>5 rows × 549 columns</p>\n",
       "</div>"
      ],
      "text/plain": [
       "   zcr_mean   zcr_std      yin_0       yin_1       yin_2       yin_3  \\\n",
       "0  0.166783  0.079440  490.95706   491.75300   488.98358   485.07758   \n",
       "1  0.241420  0.026630  467.41357   516.48170   515.56213   514.21027   \n",
       "2  0.264509  0.023550  511.84506   508.17822   509.49075   509.44510   \n",
       "3  0.295410  0.016382  514.25470   512.56980  4576.39400  4567.56050   \n",
       "4  0.292899  0.026179  462.35953  4722.73050  4718.76900  4696.35940   \n",
       "\n",
       "        yin_4       yin_5       yin_6      yin_7  ...  cln_contrast_mean_5  \\\n",
       "0   469.73868   513.68710   512.65735   245.0429  ...            13.885087   \n",
       "1   509.39246   510.75034   511.41998   511.0642  ...            14.805115   \n",
       "2   513.54913   512.35550   514.46606   515.2646  ...            13.215790   \n",
       "3  4576.48800  4655.34030  4689.93850  4697.4040  ...            13.193249   \n",
       "4  4698.63870  4731.37550  4714.80960  4737.3643  ...            12.740884   \n",
       "\n",
       "   cln_contrast_mean_6  cln_contrast_std_0  cln_contrast_std_1  \\\n",
       "0            17.060001            6.169077            3.001384   \n",
       "1            17.158812            4.463205            3.956305   \n",
       "2            16.725847            1.774137            3.766160   \n",
       "3            16.734816            3.230220            3.042296   \n",
       "4            16.750946            3.083272            2.659685   \n",
       "\n",
       "   cln_contrast_std_2  cln_contrast_std_3  cln_contrast_std_4  \\\n",
       "0            3.211213            4.549636            3.261581   \n",
       "1            1.962520            2.206298            2.378360   \n",
       "2            2.463165            1.830873            3.058117   \n",
       "3            3.633888            2.285815            2.923266   \n",
       "4            3.981223            3.348599            2.550901   \n",
       "\n",
       "   cln_contrast_std_5  cln_contrast_std_6  Aggregated  \n",
       "0            3.175519            1.371739           0  \n",
       "1            1.921748            2.072176           0  \n",
       "2            1.740199            1.977650           0  \n",
       "3            1.529872            1.633861           0  \n",
       "4            1.909587            1.636644           0  \n",
       "\n",
       "[5 rows x 549 columns]"
      ]
     },
     "execution_count": 4,
     "metadata": {},
     "output_type": "execute_result"
    }
   ],
   "source": [
    "data.head()"
   ]
  },
  {
   "cell_type": "code",
   "execution_count": 27,
   "id": "fe2e4128-e6ba-48bd-a0f1-1a176951b840",
   "metadata": {},
   "outputs": [
    {
     "name": "stdout",
     "output_type": "stream",
     "text": [
      "85358\n"
     ]
    }
   ],
   "source": [
    "count_zeros = (data['Aggregated'] == 0).sum()\n",
    "\n",
    "print(count_zeros)"
   ]
  },
  {
   "cell_type": "markdown",
   "id": "fd6ed37d-e4ba-4081-b11e-7b4e078abf8f",
   "metadata": {},
   "source": [
    "The following code is good, not a high classification but OK"
   ]
  },
  {
   "cell_type": "code",
   "execution_count": 5,
   "id": "3ba1144c-9e19-4e0e-8788-37c4293d5673",
   "metadata": {},
   "outputs": [],
   "source": [
    "# Split the data into features and labels\n",
    "X = data.iloc[:, :-1]\n",
    "y = data.iloc[:, -1]\n",
    "\n",
    "# Create a KFold object to split the data into k folds\n",
    "kf = KFold(n_splits=5, shuffle=True, random_state=42)"
   ]
  },
  {
   "cell_type": "code",
   "execution_count": 6,
   "id": "02b872ef-71cc-4781-a725-a43b781f82fc",
   "metadata": {},
   "outputs": [
    {
     "name": "stdout",
     "output_type": "stream",
     "text": [
      "Average accuracy: 0.8425333333333335\n"
     ]
    }
   ],
   "source": [
    "# Initialize a list to store the accuracy scores for each fold\n",
    "accuracy_scores_alldata = []\n",
    "\n",
    "# Loop over each fold in the cross-validation\n",
    "for train_idx, test_idx in kf.split(X):\n",
    "    # Split the data into training and testing sets for this fold\n",
    "    X_train, y_train = X.iloc[train_idx], y.iloc[train_idx]\n",
    "    X_test, y_test = X.iloc[test_idx], y.iloc[test_idx]\n",
    "    \n",
    "    # Train a decision tree model on the training data\n",
    "    model = DecisionTreeClassifier()\n",
    "    model.fit(X_train, y_train)\n",
    "    \n",
    "    # Use the model to make predictions on the testing data\n",
    "    y_pred = model.predict(X_test)\n",
    "    \n",
    "    # Calculate the accuracy score for this fold and append it to the list of accuracy scores\n",
    "    accuracy = accuracy_score(y_test, y_pred)\n",
    "    accuracy_scores_alldata.append(accuracy)\n",
    "\n",
    "# Calculate the average accuracy score across all folds\n",
    "avg_accuracy_alldata = np.mean(accuracy_scores_alldata)\n",
    "print(\"Average accuracy:\", avg_accuracy_alldata)\n"
   ]
  },
  {
   "cell_type": "code",
   "execution_count": 24,
   "id": "28435c3a-a904-45ae-8807-2cf5c7358f47",
   "metadata": {},
   "outputs": [
    {
     "name": "stdout",
     "output_type": "stream",
     "text": [
      "[0.8398333333333333, 0.842, 0.8444166666666667, 0.8449166666666666, 0.845125]\n"
     ]
    }
   ],
   "source": [
    "print(accuracy_scores)"
   ]
  },
  {
   "cell_type": "code",
   "execution_count": 35,
   "id": "6a3c0fca-ae83-4449-85b7-61f0a8ab8a72",
   "metadata": {},
   "outputs": [
    {
     "name": "stdout",
     "output_type": "stream",
     "text": [
      "15        1\n",
      "26        1\n",
      "42        1\n",
      "50        1\n",
      "51        1\n",
      "         ..\n",
      "119797    6\n",
      "119802    6\n",
      "119808    6\n",
      "119820    6\n",
      "119823    6\n",
      "Name: Aggregated, Length: 6941, dtype: int64\n"
     ]
    }
   ],
   "source": [
    "print(y_test[y_test != 0])"
   ]
  },
  {
   "cell_type": "code",
   "execution_count": 40,
   "id": "16218d38-c448-4536-9775-8f4eb5c0ee00",
   "metadata": {},
   "outputs": [
    {
     "name": "stdout",
     "output_type": "stream",
     "text": [
      "15687\n"
     ]
    }
   ],
   "source": [
    "print(np.where(y_pred[y_pred == y_test] != 0, 1, 0).sum())"
   ]
  },
  {
   "cell_type": "code",
   "execution_count": 42,
   "id": "baa439a3-a9f3-43c4-a2da-237c9f543c0a",
   "metadata": {},
   "outputs": [
    {
     "name": "stdout",
     "output_type": "stream",
     "text": [
      "17059\n"
     ]
    }
   ],
   "source": [
    "print(np.where(y_test== 0, 1, 0).sum())"
   ]
  },
  {
   "cell_type": "code",
   "execution_count": 43,
   "id": "ce95658a-b74c-411b-911c-1a31048a0036",
   "metadata": {},
   "outputs": [
    {
     "name": "stdout",
     "output_type": "stream",
     "text": [
      "0.919573245794009\n"
     ]
    }
   ],
   "source": [
    "print(15687/17059)"
   ]
  },
  {
   "cell_type": "markdown",
   "id": "0b1e1cf7-2840-4d97-ad05-6d2233cf00af",
   "metadata": {},
   "source": []
  },
  {
   "cell_type": "code",
   "execution_count": 7,
   "id": "dad6fe4e-5be3-4334-9ec7-b130d841d00d",
   "metadata": {},
   "outputs": [],
   "source": [
    "from sklearn.ensemble import RandomForestClassifier\n",
    "accuracy_scores_alldataRF = []"
   ]
  },
  {
   "cell_type": "code",
   "execution_count": 8,
   "id": "549eca28-70a2-4874-8ed7-a8f7ec63354b",
   "metadata": {},
   "outputs": [
    {
     "name": "stdout",
     "output_type": "stream",
     "text": [
      "Average accuracy: 0.9077500000000001\n"
     ]
    }
   ],
   "source": [
    "# Loop over each fold in the cross-validation\n",
    "for train_idx, test_idx in kf.split(X):\n",
    "    # Split the data into training and testing sets for this fold\n",
    "    X_train, y_train = X.iloc[train_idx], y.iloc[train_idx]\n",
    "    X_test, y_test = X.iloc[test_idx], y.iloc[test_idx]\n",
    "    \n",
    "    # Train a decision tree model on the training data\n",
    "    rf_classifier = RandomForestClassifier(n_estimators=100)\n",
    "    rf_classifier.fit(X_train, y_train)\n",
    "    \n",
    "    # Use the model to make predictions on the testing data\n",
    "    y_pred = rf_classifier.predict(X_test)\n",
    "    \n",
    "    # Calculate the accuracy score for this fold and append it to the list of accuracy scores\n",
    "    accuracy = accuracy_score(y_test, y_pred)\n",
    "    accuracy_scores_alldataRF.append(accuracy)\n",
    "    \n",
    "avg_accuracy_alldataRF = np.mean(accuracy_scores_alldataRF)\n",
    "print(\"Average accuracy:\", avg_accuracy_alldataRF)"
   ]
  },
  {
   "cell_type": "code",
   "execution_count": 55,
   "id": "6576e772-542e-499e-b11d-06113833e1bb",
   "metadata": {},
   "outputs": [
    {
     "data": {
      "text/plain": [
       "[0.902, 0.9015416666666667, 0.90625, 0.907625, 0.9048333333333334]"
      ]
     },
     "execution_count": 55,
     "metadata": {},
     "output_type": "execute_result"
    }
   ],
   "source": [
    "accuracy_scores"
   ]
  },
  {
   "cell_type": "markdown",
   "id": "614e548a-cc83-4e63-bd41-ad3594a80c56",
   "metadata": {},
   "source": [
    "Algorithms with feature subset selection"
   ]
  },
  {
   "cell_type": "code",
   "execution_count": 9,
   "id": "90d1ba6b-67ae-477d-9c54-8955d6f3ab82",
   "metadata": {},
   "outputs": [],
   "source": [
    "X_subset_features=X.iloc[:, :282]\n",
    "y = data.iloc[:, -1]\n",
    "accuracy_scores_281featuresRF = []"
   ]
  },
  {
   "cell_type": "code",
   "execution_count": 10,
   "id": "21b74e73-8f96-4ca0-a498-53f23f122f3b",
   "metadata": {},
   "outputs": [
    {
     "name": "stdout",
     "output_type": "stream",
     "text": [
      "Average accuracy: 0.9039666666666666\n"
     ]
    }
   ],
   "source": [
    "for train_idx, test_idx in kf.split(X_subset_features):\n",
    "    # Split the data into training and testing sets for this fold\n",
    "    X_train, y_train = X_subset_features.iloc[train_idx], y.iloc[train_idx]\n",
    "    X_test, y_test = X_subset_features.iloc[test_idx], y.iloc[test_idx]\n",
    "    \n",
    "    # Train a decision tree model on the training data\n",
    "    rf_classifier = RandomForestClassifier(n_estimators=100)\n",
    "    rf_classifier.fit(X_train, y_train)\n",
    "    \n",
    "    # Use the model to make predictions on the testing data\n",
    "    y_pred = rf_classifier.predict(X_test)\n",
    "    \n",
    "    # Calculate the accuracy score for this fold and append it to the list of accuracy scores\n",
    "    accuracy = accuracy_score(y_test, y_pred)\n",
    "    accuracy_scores_281featuresRF.append(accuracy)\n",
    "    \n",
    "avg_accuracy_281featuresRF = np.mean(accuracy_scores_281featuresRF)\n",
    "print(\"Average accuracy:\", avg_accuracy_281featuresRF)"
   ]
  },
  {
   "cell_type": "code",
   "execution_count": null,
   "id": "b8f08ff9-8232-47af-9b6a-b03a0811c6b3",
   "metadata": {},
   "outputs": [],
   "source": []
  },
  {
   "cell_type": "code",
   "execution_count": 11,
   "id": "adb39972-360b-40f4-ba13-eddc89d71dd0",
   "metadata": {},
   "outputs": [],
   "source": [
    "accuracy_scores_281featuresDTC = []"
   ]
  },
  {
   "cell_type": "code",
   "execution_count": 12,
   "id": "d3efb770-80da-4e87-9d3a-5542184d6bcb",
   "metadata": {},
   "outputs": [
    {
     "name": "stdout",
     "output_type": "stream",
     "text": [
      "Average accuracy: 0.8374166666666667\n"
     ]
    }
   ],
   "source": [
    "for train_idx, test_idx in kf.split(X_subset_features):\n",
    "    # Split the data into training and testing sets for this fold\n",
    "    X_train, y_train = X_subset_features.iloc[train_idx], y.iloc[train_idx]\n",
    "    X_test, y_test = X_subset_features.iloc[test_idx], y.iloc[test_idx]\n",
    "    \n",
    "    # Train a decision tree model on the training data\n",
    "    model = DecisionTreeClassifier()\n",
    "    model.fit(X_train, y_train)\n",
    "    \n",
    "    # Use the model to make predictions on the testing data\n",
    "    y_pred = model.predict(X_test)\n",
    "    \n",
    "    # Calculate the accuracy score for this fold and append it to the list of accuracy scores\n",
    "    accuracy = accuracy_score(y_test, y_pred)\n",
    "    accuracy_scores_281featuresDTC.append(accuracy)\n",
    "\n",
    "# Calculate the average accuracy score across all folds\n",
    "avg_accuracy_281featuresDTC = np.mean(accuracy_scores_281featuresDTC)\n",
    "print(\"Average accuracy:\", avg_accuracy_281featuresDTC)"
   ]
  },
  {
   "cell_type": "code",
   "execution_count": null,
   "id": "861c51b1-94fc-4aad-a7a5-54b3a6f2d153",
   "metadata": {},
   "outputs": [],
   "source": []
  },
  {
   "cell_type": "markdown",
   "id": "5711d54e-fc14-4028-8714-92ab0926c599",
   "metadata": {},
   "source": [
    "Feature selection with husseins code"
   ]
  },
  {
   "cell_type": "code",
   "execution_count": 13,
   "id": "52a8067e-90a2-4876-9225-9c916061c06e",
   "metadata": {},
   "outputs": [],
   "source": [
    "data = pd.read_csv('./dataset/new/data.csv').drop(columns=\"Unnamed: 0\")"
   ]
  },
  {
   "cell_type": "code",
   "execution_count": 14,
   "id": "be58a318-b4a0-49c9-92ec-99de17ef8068",
   "metadata": {},
   "outputs": [],
   "source": [
    "correlation_matrix = data.corr()\n",
    "mask = np.triu(np.ones_like(correlation_matrix, dtype=bool))\n",
    "reduced_matrix = correlation_matrix.mask(mask)\n",
    "feature_redundancy = reduced_matrix.abs().sum()\n",
    "sorted_features = feature_redundancy.sort_values(ascending=False)\n",
    "\n",
    "threshold = 0.9\n",
    "selected_features = []\n",
    "for feature in sorted_features.index:\n",
    "    if not any(np.abs(correlation_matrix[feature][selected_features]) > threshold):\n",
    "        selected_features.append(feature)\n",
    "\n",
    "data = data[selected_features]"
   ]
  },
  {
   "cell_type": "code",
   "execution_count": 15,
   "id": "628d0a1e-607a-4e97-bd32-9a0e010b4d68",
   "metadata": {},
   "outputs": [],
   "source": [
    "col_to_add = labels.iloc[:, 1]\n",
    "\n",
    "# concatenate the two DataFrames along axis=1 (i.e., add a column to df1)\n",
    "data = pd.concat([data, col_to_add], axis=1)"
   ]
  },
  {
   "cell_type": "code",
   "execution_count": 16,
   "id": "2d456819-f14c-4c2a-85aa-84951d268b89",
   "metadata": {},
   "outputs": [
    {
     "data": {
      "text/html": [
       "<div>\n",
       "<style scoped>\n",
       "    .dataframe tbody tr th:only-of-type {\n",
       "        vertical-align: middle;\n",
       "    }\n",
       "\n",
       "    .dataframe tbody tr th {\n",
       "        vertical-align: top;\n",
       "    }\n",
       "\n",
       "    .dataframe thead th {\n",
       "        text-align: right;\n",
       "    }\n",
       "</style>\n",
       "<table border=\"1\" class=\"dataframe\">\n",
       "  <thead>\n",
       "    <tr style=\"text-align: right;\">\n",
       "      <th></th>\n",
       "      <th>raw_melspect_std_35</th>\n",
       "      <th>raw_melspect_std_34</th>\n",
       "      <th>raw_melspect_std_33</th>\n",
       "      <th>raw_melspect_std_36</th>\n",
       "      <th>raw_melspect_std_38</th>\n",
       "      <th>raw_melspect_std_37</th>\n",
       "      <th>raw_melspect_std_39</th>\n",
       "      <th>raw_melspect_std_32</th>\n",
       "      <th>raw_melspect_std_40</th>\n",
       "      <th>raw_melspect_std_42</th>\n",
       "      <th>...</th>\n",
       "      <th>cln_contrast_mean_0</th>\n",
       "      <th>cln_contrast_mean_1</th>\n",
       "      <th>cln_contrast_std_3</th>\n",
       "      <th>cln_contrast_std_4</th>\n",
       "      <th>cln_contrast_std_5</th>\n",
       "      <th>cln_contrast_std_2</th>\n",
       "      <th>cln_contrast_std_1</th>\n",
       "      <th>cln_contrast_std_0</th>\n",
       "      <th>cln_contrast_std_6</th>\n",
       "      <th>Aggregated</th>\n",
       "    </tr>\n",
       "  </thead>\n",
       "  <tbody>\n",
       "    <tr>\n",
       "      <th>0</th>\n",
       "      <td>0.298099</td>\n",
       "      <td>0.328444</td>\n",
       "      <td>0.368817</td>\n",
       "      <td>0.370997</td>\n",
       "      <td>0.176198</td>\n",
       "      <td>0.217133</td>\n",
       "      <td>0.174130</td>\n",
       "      <td>0.293605</td>\n",
       "      <td>0.192146</td>\n",
       "      <td>0.257332</td>\n",
       "      <td>...</td>\n",
       "      <td>10.763522</td>\n",
       "      <td>5.012050</td>\n",
       "      <td>4.549636</td>\n",
       "      <td>3.261581</td>\n",
       "      <td>3.175519</td>\n",
       "      <td>3.211213</td>\n",
       "      <td>3.001384</td>\n",
       "      <td>6.169077</td>\n",
       "      <td>1.371739</td>\n",
       "      <td>0</td>\n",
       "    </tr>\n",
       "    <tr>\n",
       "      <th>1</th>\n",
       "      <td>0.270532</td>\n",
       "      <td>0.271270</td>\n",
       "      <td>0.357657</td>\n",
       "      <td>0.157942</td>\n",
       "      <td>0.289430</td>\n",
       "      <td>0.235276</td>\n",
       "      <td>0.288886</td>\n",
       "      <td>0.233909</td>\n",
       "      <td>0.452353</td>\n",
       "      <td>0.356668</td>\n",
       "      <td>...</td>\n",
       "      <td>7.252409</td>\n",
       "      <td>6.824798</td>\n",
       "      <td>2.206298</td>\n",
       "      <td>2.378360</td>\n",
       "      <td>1.921748</td>\n",
       "      <td>1.962520</td>\n",
       "      <td>3.956305</td>\n",
       "      <td>4.463205</td>\n",
       "      <td>2.072176</td>\n",
       "      <td>0</td>\n",
       "    </tr>\n",
       "    <tr>\n",
       "      <th>2</th>\n",
       "      <td>0.334103</td>\n",
       "      <td>0.470067</td>\n",
       "      <td>0.465588</td>\n",
       "      <td>0.243257</td>\n",
       "      <td>0.146848</td>\n",
       "      <td>0.153000</td>\n",
       "      <td>0.183985</td>\n",
       "      <td>0.350644</td>\n",
       "      <td>0.393711</td>\n",
       "      <td>0.154153</td>\n",
       "      <td>...</td>\n",
       "      <td>4.404459</td>\n",
       "      <td>6.717711</td>\n",
       "      <td>1.830873</td>\n",
       "      <td>3.058117</td>\n",
       "      <td>1.740199</td>\n",
       "      <td>2.463165</td>\n",
       "      <td>3.766160</td>\n",
       "      <td>1.774137</td>\n",
       "      <td>1.977650</td>\n",
       "      <td>0</td>\n",
       "    </tr>\n",
       "    <tr>\n",
       "      <th>3</th>\n",
       "      <td>0.218709</td>\n",
       "      <td>0.352913</td>\n",
       "      <td>0.346993</td>\n",
       "      <td>0.130066</td>\n",
       "      <td>0.245454</td>\n",
       "      <td>0.246301</td>\n",
       "      <td>0.190036</td>\n",
       "      <td>0.401964</td>\n",
       "      <td>0.305665</td>\n",
       "      <td>0.408941</td>\n",
       "      <td>...</td>\n",
       "      <td>6.169155</td>\n",
       "      <td>6.823544</td>\n",
       "      <td>2.285815</td>\n",
       "      <td>2.923266</td>\n",
       "      <td>1.529872</td>\n",
       "      <td>3.633888</td>\n",
       "      <td>3.042296</td>\n",
       "      <td>3.230220</td>\n",
       "      <td>1.633861</td>\n",
       "      <td>0</td>\n",
       "    </tr>\n",
       "    <tr>\n",
       "      <th>4</th>\n",
       "      <td>0.170190</td>\n",
       "      <td>0.162099</td>\n",
       "      <td>0.217177</td>\n",
       "      <td>0.247123</td>\n",
       "      <td>0.154933</td>\n",
       "      <td>0.191184</td>\n",
       "      <td>0.195421</td>\n",
       "      <td>0.211458</td>\n",
       "      <td>0.282416</td>\n",
       "      <td>0.271028</td>\n",
       "      <td>...</td>\n",
       "      <td>5.772846</td>\n",
       "      <td>5.700120</td>\n",
       "      <td>3.348599</td>\n",
       "      <td>2.550901</td>\n",
       "      <td>1.909587</td>\n",
       "      <td>3.981223</td>\n",
       "      <td>2.659685</td>\n",
       "      <td>3.083272</td>\n",
       "      <td>1.636644</td>\n",
       "      <td>0</td>\n",
       "    </tr>\n",
       "  </tbody>\n",
       "</table>\n",
       "<p>5 rows × 318 columns</p>\n",
       "</div>"
      ],
      "text/plain": [
       "   raw_melspect_std_35  raw_melspect_std_34  raw_melspect_std_33  \\\n",
       "0             0.298099             0.328444             0.368817   \n",
       "1             0.270532             0.271270             0.357657   \n",
       "2             0.334103             0.470067             0.465588   \n",
       "3             0.218709             0.352913             0.346993   \n",
       "4             0.170190             0.162099             0.217177   \n",
       "\n",
       "   raw_melspect_std_36  raw_melspect_std_38  raw_melspect_std_37  \\\n",
       "0             0.370997             0.176198             0.217133   \n",
       "1             0.157942             0.289430             0.235276   \n",
       "2             0.243257             0.146848             0.153000   \n",
       "3             0.130066             0.245454             0.246301   \n",
       "4             0.247123             0.154933             0.191184   \n",
       "\n",
       "   raw_melspect_std_39  raw_melspect_std_32  raw_melspect_std_40  \\\n",
       "0             0.174130             0.293605             0.192146   \n",
       "1             0.288886             0.233909             0.452353   \n",
       "2             0.183985             0.350644             0.393711   \n",
       "3             0.190036             0.401964             0.305665   \n",
       "4             0.195421             0.211458             0.282416   \n",
       "\n",
       "   raw_melspect_std_42  ...  cln_contrast_mean_0  cln_contrast_mean_1  \\\n",
       "0             0.257332  ...            10.763522             5.012050   \n",
       "1             0.356668  ...             7.252409             6.824798   \n",
       "2             0.154153  ...             4.404459             6.717711   \n",
       "3             0.408941  ...             6.169155             6.823544   \n",
       "4             0.271028  ...             5.772846             5.700120   \n",
       "\n",
       "   cln_contrast_std_3  cln_contrast_std_4  cln_contrast_std_5  \\\n",
       "0            4.549636            3.261581            3.175519   \n",
       "1            2.206298            2.378360            1.921748   \n",
       "2            1.830873            3.058117            1.740199   \n",
       "3            2.285815            2.923266            1.529872   \n",
       "4            3.348599            2.550901            1.909587   \n",
       "\n",
       "   cln_contrast_std_2  cln_contrast_std_1  cln_contrast_std_0  \\\n",
       "0            3.211213            3.001384            6.169077   \n",
       "1            1.962520            3.956305            4.463205   \n",
       "2            2.463165            3.766160            1.774137   \n",
       "3            3.633888            3.042296            3.230220   \n",
       "4            3.981223            2.659685            3.083272   \n",
       "\n",
       "   cln_contrast_std_6  Aggregated  \n",
       "0            1.371739           0  \n",
       "1            2.072176           0  \n",
       "2            1.977650           0  \n",
       "3            1.633861           0  \n",
       "4            1.636644           0  \n",
       "\n",
       "[5 rows x 318 columns]"
      ]
     },
     "execution_count": 16,
     "metadata": {},
     "output_type": "execute_result"
    }
   ],
   "source": [
    "data.head()"
   ]
  },
  {
   "cell_type": "code",
   "execution_count": 18,
   "id": "ac17a10b-ed23-4c90-b955-5eb1ab367629",
   "metadata": {},
   "outputs": [],
   "source": [
    "X = data.iloc[:, :-1]\n",
    "y = data.iloc[:, -1]\n",
    "\n",
    "# Create a KFold object to split the data into k folds\n",
    "kf = KFold(n_splits=5, shuffle=True, random_state=42)\n",
    "\n",
    "# Initialize a list to store the accuracy scores for each fold\n",
    "accuracy_scores_corrmatr_featureselection = []"
   ]
  },
  {
   "cell_type": "code",
   "execution_count": 19,
   "id": "00405f7c-2584-40db-bcd8-75d57a30d458",
   "metadata": {},
   "outputs": [
    {
     "name": "stdout",
     "output_type": "stream",
     "text": [
      "Average accuracy: 0.8400583333333334\n"
     ]
    }
   ],
   "source": [
    "# Loop over each fold in the cross-validation\n",
    "for train_idx, test_idx in kf.split(X):\n",
    "    # Split the data into training and testing sets for this fold\n",
    "    X_train, y_train = X.iloc[train_idx], y.iloc[train_idx]\n",
    "    X_test, y_test = X.iloc[test_idx], y.iloc[test_idx]\n",
    "    \n",
    "    # Train a decision tree model on the training data\n",
    "    model = DecisionTreeClassifier()\n",
    "    model.fit(X_train, y_train)\n",
    "    \n",
    "    # Use the model to make predictions on the testing data\n",
    "    y_pred = model.predict(X_test)\n",
    "    \n",
    "    # Calculate the accuracy score for this fold and append it to the list of accuracy scores\n",
    "    accuracy = accuracy_score(y_test, y_pred)\n",
    "    accuracy_scores_corrmatr_featureselection.append(accuracy)\n",
    "\n",
    "# Calculate the average accuracy score across all folds\n",
    "avg_accuracy_corrmatr_featureselection = np.mean(accuracy_scores_corrmatr_featureselection)\n",
    "print(\"Average accuracy:\", avg_accuracy_corrmatr_featureselection)"
   ]
  },
  {
   "cell_type": "code",
   "execution_count": null,
   "id": "806382b7-83e4-4cbd-9145-81b6966521a7",
   "metadata": {},
   "outputs": [],
   "source": []
  },
  {
   "cell_type": "code",
   "execution_count": 20,
   "id": "d41be3e7-536a-4d73-abf9-3a9305fd8218",
   "metadata": {},
   "outputs": [],
   "source": [
    "accuracy_scores_corrmatr_featureselectionRF = []"
   ]
  },
  {
   "cell_type": "code",
   "execution_count": 21,
   "id": "5157d51d-1a41-4029-97b6-0961fbcd2a43",
   "metadata": {},
   "outputs": [
    {
     "name": "stdout",
     "output_type": "stream",
     "text": [
      "Average accuracy: 0.9032499999999999\n"
     ]
    }
   ],
   "source": [
    "for train_idx, test_idx in kf.split(X):\n",
    "    # Split the data into training and testing sets for this fold\n",
    "    X_train, y_train = X.iloc[train_idx], y.iloc[train_idx]\n",
    "    X_test, y_test = X.iloc[test_idx], y.iloc[test_idx]\n",
    "    \n",
    "    # Train a decision tree model on the training data\n",
    "    rf_classifier = RandomForestClassifier(n_estimators=100)\n",
    "    rf_classifier.fit(X_train, y_train)\n",
    "    \n",
    "    # Use the model to make predictions on the testing data\n",
    "    y_pred = rf_classifier.predict(X_test)\n",
    "    \n",
    "    # Calculate the accuracy score for this fold and append it to the list of accuracy scores\n",
    "    accuracy = accuracy_score(y_test, y_pred)\n",
    "    accuracy_scores_corrmatr_featureselectionRF.append(accuracy)\n",
    "    \n",
    "avg_accuracy_corrmatr_featureselectionRF = np.mean(accuracy_scores_corrmatr_featureselectionRF)\n",
    "print(\"Average accuracy:\", avg_accuracy_corrmatr_featureselectionRF)"
   ]
  },
  {
   "cell_type": "code",
   "execution_count": null,
   "id": "9127f6d2-1ed4-4612-8ce5-40ade652dacb",
   "metadata": {},
   "outputs": [],
   "source": []
  },
  {
   "cell_type": "markdown",
   "id": "be61be08-56cd-4613-8694-a2fc12278461",
   "metadata": {},
   "source": [
    "Feature selection with husseins code when I drop all zeros"
   ]
  },
  {
   "cell_type": "code",
   "execution_count": 22,
   "id": "e9bef821-f429-4149-9425-98539afaa201",
   "metadata": {},
   "outputs": [],
   "source": [
    "data = data[data['Aggregated'] != 0]"
   ]
  },
  {
   "cell_type": "code",
   "execution_count": 28,
   "id": "895726df-9b7f-4529-8711-73968e5d588b",
   "metadata": {},
   "outputs": [],
   "source": [
    "X = data.iloc[:, :-1]\n",
    "y = data.iloc[:, -1]"
   ]
  },
  {
   "cell_type": "code",
   "execution_count": 29,
   "id": "39691014-10b5-471b-bd98-7953ccdaf46c",
   "metadata": {},
   "outputs": [
    {
     "name": "stdout",
     "output_type": "stream",
     "text": [
      "Average accuracy: 0.7845678261895563\n"
     ]
    }
   ],
   "source": [
    "# Initialize a list to store the accuracy scores for each fold\n",
    "accuracy_scores_zeroesdropped = []\n",
    "\n",
    "# Loop over each fold in the cross-validation\n",
    "for train_idx, test_idx in kf.split(X):\n",
    "    # Split the data into training and testing sets for this fold\n",
    "    X_train, y_train = X.iloc[train_idx], y.iloc[train_idx]\n",
    "    X_test, y_test = X.iloc[test_idx], y.iloc[test_idx]\n",
    "    \n",
    "    # Train a decision tree model on the training data\n",
    "    model = DecisionTreeClassifier()\n",
    "    model.fit(X_train, y_train)\n",
    "    \n",
    "    # Use the model to make predictions on the testing data\n",
    "    y_pred = model.predict(X_test)\n",
    "    \n",
    "    # Calculate the accuracy score for this fold and append it to the list of accuracy scores\n",
    "    accuracy = accuracy_score(y_test, y_pred)\n",
    "    accuracy_scores_zeroesdropped.append(accuracy)\n",
    "\n",
    "# Calculate the average accuracy score across all folds\n",
    "avg_accuracy_zeroesdropped = np.mean(accuracy_scores_zeroesdropped)\n",
    "print(\"Average accuracy:\", avg_accuracy_zeroesdropped)"
   ]
  },
  {
   "cell_type": "code",
   "execution_count": null,
   "id": "e5644fec-b8fc-4cd5-aada-c24a5e1b2a23",
   "metadata": {},
   "outputs": [],
   "source": []
  },
  {
   "cell_type": "code",
   "execution_count": 30,
   "id": "1b116a9b-c737-4fc2-8778-55a088ca62b8",
   "metadata": {},
   "outputs": [
    {
     "name": "stdout",
     "output_type": "stream",
     "text": [
      "Average accuracy: 0.8877660897049819\n"
     ]
    }
   ],
   "source": [
    "accuracy_scores_nozeroesRF = []\n",
    "for train_idx, test_idx in kf.split(X):\n",
    "    # Split the data into training and testing sets for this fold\n",
    "    X_train, y_train = X.iloc[train_idx], y.iloc[train_idx]\n",
    "    X_test, y_test = X.iloc[test_idx], y.iloc[test_idx]\n",
    "    \n",
    "    # Train a decision tree model on the training data\n",
    "    rf_classifier = RandomForestClassifier(n_estimators=100)\n",
    "    rf_classifier.fit(X_train, y_train)\n",
    "    \n",
    "    # Use the model to make predictions on the testing data\n",
    "    y_pred = rf_classifier.predict(X_test)\n",
    "    \n",
    "    # Calculate the accuracy score for this fold and append it to the list of accuracy scores\n",
    "    accuracy = accuracy_score(y_test, y_pred)\n",
    "    accuracy_scores_nozeroesRF.append(accuracy)\n",
    "    \n",
    "avg_accuracy_nozeroesRF = np.mean(accuracy_scores_nozeroesRF)\n",
    "print(\"Average accuracy:\", avg_accuracy_nozeroesRF)"
   ]
  },
  {
   "cell_type": "code",
   "execution_count": null,
   "id": "24e3617e-8ba6-4047-9b4d-cc75aee07331",
   "metadata": {},
   "outputs": [],
   "source": []
  },
  {
   "cell_type": "code",
   "execution_count": null,
   "id": "69b25257-38e7-46c6-aad5-26028a74bacf",
   "metadata": {},
   "outputs": [],
   "source": []
  },
  {
   "cell_type": "markdown",
   "id": "04319984-0e67-4de8-9c3e-ec0fcdcb2011",
   "metadata": {},
   "source": [
    "Random forest with normalized data"
   ]
  },
  {
   "cell_type": "code",
   "execution_count": 40,
   "id": "4e89c944-fb98-4777-ad8d-9bed673437fc",
   "metadata": {},
   "outputs": [],
   "source": [
    "data = pd.read_csv('./dataset/new/data.csv').drop(columns=\"Unnamed: 0\")\n",
    "labels = pd.read_csv('./dataset/new/labels.csv')"
   ]
  },
  {
   "cell_type": "code",
   "execution_count": null,
   "id": "ce0a715f-7f70-42bd-b2dd-6c7408d3c2e3",
   "metadata": {},
   "outputs": [],
   "source": []
  },
  {
   "cell_type": "code",
   "execution_count": 41,
   "id": "799d67fb-8025-4f2b-b821-4aa539f342ad",
   "metadata": {},
   "outputs": [],
   "source": [
    "new_data = []\n",
    "new_labels = []\n",
    "for i in range(0,7):\n",
    "    indices = labels[labels[\"Aggregated\"] == i].sample(9000, replace=True).index.values.tolist()\n",
    "    new_data.append(data.iloc[indices])\n",
    "    new_labels.append(labels[\"Aggregated\"].iloc[indices])\n",
    "new_data = pd.concat(new_data)\n",
    "new_labels = pd.concat(new_labels)"
   ]
  },
  {
   "cell_type": "code",
   "execution_count": 44,
   "id": "ef438bba-6f75-49bc-85f0-d1b80e146c48",
   "metadata": {},
   "outputs": [],
   "source": [
    "# Initialize the RobustScaler\n",
    "scaler = RobustScaler()\n",
    "\n",
    "# Apply Robust Scaling to the DataFrame\n",
    "scaled_data = scaler.fit_transform(new_data)\n",
    "\n",
    "\n",
    "# Convert the scaled data back to a DataFrame\n",
    "data = pd.DataFrame(scaled_data, columns=new_data.columns)"
   ]
  },
  {
   "cell_type": "code",
   "execution_count": 45,
   "id": "8962f1ba-92ec-4484-9219-52f3650de8e7",
   "metadata": {},
   "outputs": [],
   "source": [
    "columns = ['Aggregated']\n",
    "# Create the DataFrame\n",
    "labels = pd.DataFrame(new_labels, columns=columns)\n",
    "labels = labels.reset_index(drop=True)"
   ]
  },
  {
   "cell_type": "code",
   "execution_count": 46,
   "id": "ff502ac7-50ea-452b-b69d-e06e90e1eb62",
   "metadata": {},
   "outputs": [],
   "source": [
    "col_to_add = labels.iloc[:, 0]\n",
    "\n",
    "# concatenate the two DataFrames along axis=1 (i.e., add a column to df1)\n",
    "data = pd.concat([data, col_to_add], axis=1)"
   ]
  },
  {
   "cell_type": "code",
   "execution_count": 47,
   "id": "cd30346e-b769-4414-9e4b-be90d8bcb907",
   "metadata": {},
   "outputs": [],
   "source": [
    "X = data.iloc[:, :-1]\n",
    "y = data.iloc[:, -1]\n",
    "\n",
    "# Create a KFold object to split the data into k folds\n",
    "kf = KFold(n_splits=5, shuffle=True, random_state=42)\n",
    "\n",
    "# Initialize a list to store the accuracy scores for each fold\n",
    "accuracy_scores_normalized_RF = []"
   ]
  },
  {
   "cell_type": "code",
   "execution_count": 48,
   "id": "cc8e3e8e-eed5-478b-989d-682e846e204c",
   "metadata": {},
   "outputs": [
    {
     "name": "stdout",
     "output_type": "stream",
     "text": [
      "Average accuracy: 0.9514285714285714\n"
     ]
    }
   ],
   "source": [
    "for train_idx, test_idx in kf.split(X):\n",
    "    # Split the data into training and testing sets for this fold\n",
    "    X_train, y_train = X.iloc[train_idx], y.iloc[train_idx]\n",
    "    X_test, y_test = X.iloc[test_idx], y.iloc[test_idx]\n",
    "    \n",
    "    # Train a decision tree model on the training data\n",
    "    rf_classifier = RandomForestClassifier(n_estimators=100)\n",
    "    rf_classifier.fit(X_train, y_train)\n",
    "    \n",
    "    # Use the model to make predictions on the testing data\n",
    "    y_pred = rf_classifier.predict(X_test)\n",
    "    \n",
    "    # Calculate the accuracy score for this fold and append it to the list of accuracy scores\n",
    "    accuracy = accuracy_score(y_test, y_pred)\n",
    "    accuracy_scores_normalized_RF.append(accuracy)\n",
    "    \n",
    "avg_accuracy_normalized_RF = np.mean(accuracy_scores_normalized_RF)\n",
    "print(\"Average accuracy:\", avg_accuracy_normalized_RF)"
   ]
  },
  {
   "cell_type": "code",
   "execution_count": null,
   "id": "15b631b7-a574-4e38-ae84-247296fe274c",
   "metadata": {},
   "outputs": [],
   "source": []
  },
  {
   "cell_type": "code",
   "execution_count": 49,
   "id": "ae9c4838-3aea-403a-880a-0c1a58cd0f4a",
   "metadata": {},
   "outputs": [
    {
     "name": "stdout",
     "output_type": "stream",
     "text": [
      "Average accuracy: 0.896079365079365\n"
     ]
    }
   ],
   "source": [
    "accuracy_scores_normalized_DTC = []\n",
    "\n",
    "# Loop over each fold in the cross-validation\n",
    "for train_idx, test_idx in kf.split(X):\n",
    "    # Split the data into training and testing sets for this fold\n",
    "    X_train, y_train = X.iloc[train_idx], y.iloc[train_idx]\n",
    "    X_test, y_test = X.iloc[test_idx], y.iloc[test_idx]\n",
    "    \n",
    "    # Train a decision tree model on the training data\n",
    "    model = DecisionTreeClassifier()\n",
    "    model.fit(X_train, y_train)\n",
    "    \n",
    "    # Use the model to make predictions on the testing data\n",
    "    y_pred = model.predict(X_test)\n",
    "    \n",
    "    # Calculate the accuracy score for this fold and append it to the list of accuracy scores\n",
    "    accuracy = accuracy_score(y_test, y_pred)\n",
    "    accuracy_scores_normalized_DTC.append(accuracy)\n",
    "\n",
    "# Calculate the average accuracy score across all folds\n",
    "avg_accuracy_normalized_DTC = np.mean(accuracy_scores_normalized_DTC)\n",
    "print(\"Average accuracy:\", avg_accuracy_normalized_DTC)"
   ]
  },
  {
   "cell_type": "markdown",
   "id": "aa4ea572-b246-4c9c-875b-a2ba27932996",
   "metadata": {},
   "source": [
    "<h2>Dataframes with Random Forest and Decision Tree Classifiers</h2>"
   ]
  },
  {
   "cell_type": "code",
   "execution_count": 60,
   "id": "050ab918-67ec-4b2b-ac65-51a922782045",
   "metadata": {},
   "outputs": [],
   "source": [
    "RF_classifiers = ['RF All Data', 'RF 281 features', 'RF with corr matrx feature selection', 'RF with feature selection no zeroes', 'RF with normalized data']\n",
    "\n",
    "# Create an empty DataFrame\n",
    "df = pd.DataFrame(columns=RF_classifiers)\n",
    "\n",
    "# Create a single row of data with the corresponding scores\n",
    "data = [avg_accuracy_alldataRF, avg_accuracy_281featuresRF, avg_accuracy_corrmatr_featureselectionRF, avg_accuracy_nozeroesRF, avg_accuracy_normalized_RF]\n",
    "\n",
    "# Add the row to the DataFrame\n",
    "df.loc[0] = data"
   ]
  },
  {
   "cell_type": "code",
   "execution_count": 61,
   "id": "cdf8e9a8-fe91-41ab-9e05-1f04693378ab",
   "metadata": {},
   "outputs": [
    {
     "data": {
      "text/html": [
       "<div>\n",
       "<style scoped>\n",
       "    .dataframe tbody tr th:only-of-type {\n",
       "        vertical-align: middle;\n",
       "    }\n",
       "\n",
       "    .dataframe tbody tr th {\n",
       "        vertical-align: top;\n",
       "    }\n",
       "\n",
       "    .dataframe thead th {\n",
       "        text-align: right;\n",
       "    }\n",
       "</style>\n",
       "<table border=\"1\" class=\"dataframe\">\n",
       "  <thead>\n",
       "    <tr style=\"text-align: right;\">\n",
       "      <th></th>\n",
       "      <th>RF All Data</th>\n",
       "      <th>RF 281 features</th>\n",
       "      <th>RF with corr matrx feature selection</th>\n",
       "      <th>RF with feature selection no zeroes</th>\n",
       "      <th>RF with normalized data</th>\n",
       "    </tr>\n",
       "  </thead>\n",
       "  <tbody>\n",
       "    <tr>\n",
       "      <th>0</th>\n",
       "      <td>0.90775</td>\n",
       "      <td>0.903967</td>\n",
       "      <td>0.90325</td>\n",
       "      <td>0.887766</td>\n",
       "      <td>0.951429</td>\n",
       "    </tr>\n",
       "  </tbody>\n",
       "</table>\n",
       "</div>"
      ],
      "text/plain": [
       "   RF All Data  RF 281 features  RF with corr matrx feature selection  \\\n",
       "0      0.90775         0.903967                               0.90325   \n",
       "\n",
       "   RF with feature selection no zeroes  RF with normalized data  \n",
       "0                             0.887766                 0.951429  "
      ]
     },
     "execution_count": 61,
     "metadata": {},
     "output_type": "execute_result"
    }
   ],
   "source": [
    "df"
   ]
  },
  {
   "cell_type": "code",
   "execution_count": 64,
   "id": "7b3a29e3-f6b1-4ff3-949d-be2f7bf1c22c",
   "metadata": {},
   "outputs": [],
   "source": [
    "DTC_classifiers = ['DTC All Data', 'DTC 281 features', 'DTC with corr matrx feature selection', 'DTC with feature selection no zeroes', 'DTC with normalized data']\n",
    "\n",
    "# Create an empty DataFrame\n",
    "accuracies_dtc = pd.DataFrame(columns=DTC_classifiers)\n",
    "\n",
    "# Create a single row of data with the corresponding scores\n",
    "data = [avg_accuracy_alldata, avg_accuracy_281featuresDTC, avg_accuracy_corrmatr_featureselection, avg_accuracy_zeroesdropped, avg_accuracy_normalized_DTC]\n",
    "\n",
    "# Add the row to the DataFrame\n",
    "accuracies_dtc.loc[0] = data"
   ]
  },
  {
   "cell_type": "code",
   "execution_count": 65,
   "id": "ba5f6bee-a5cb-49a0-9f02-620dfac512cb",
   "metadata": {},
   "outputs": [
    {
     "data": {
      "text/html": [
       "<div>\n",
       "<style scoped>\n",
       "    .dataframe tbody tr th:only-of-type {\n",
       "        vertical-align: middle;\n",
       "    }\n",
       "\n",
       "    .dataframe tbody tr th {\n",
       "        vertical-align: top;\n",
       "    }\n",
       "\n",
       "    .dataframe thead th {\n",
       "        text-align: right;\n",
       "    }\n",
       "</style>\n",
       "<table border=\"1\" class=\"dataframe\">\n",
       "  <thead>\n",
       "    <tr style=\"text-align: right;\">\n",
       "      <th></th>\n",
       "      <th>DTC All Data</th>\n",
       "      <th>DTC 281 features</th>\n",
       "      <th>DTC with corr matrx feature selection</th>\n",
       "      <th>DTC with feature selection no zeroes</th>\n",
       "      <th>DTC with normalized data</th>\n",
       "    </tr>\n",
       "  </thead>\n",
       "  <tbody>\n",
       "    <tr>\n",
       "      <th>0</th>\n",
       "      <td>0.842533</td>\n",
       "      <td>0.837417</td>\n",
       "      <td>0.840058</td>\n",
       "      <td>0.784568</td>\n",
       "      <td>0.896079</td>\n",
       "    </tr>\n",
       "  </tbody>\n",
       "</table>\n",
       "</div>"
      ],
      "text/plain": [
       "   DTC All Data  DTC 281 features  DTC with corr matrx feature selection  \\\n",
       "0      0.842533          0.837417                               0.840058   \n",
       "\n",
       "   DTC with feature selection no zeroes  DTC with normalized data  \n",
       "0                              0.784568                  0.896079  "
      ]
     },
     "execution_count": 65,
     "metadata": {},
     "output_type": "execute_result"
    }
   ],
   "source": [
    "accuracies_dtc"
   ]
  },
  {
   "cell_type": "code",
   "execution_count": 81,
   "id": "2118cf70-5635-44df-af3f-f1e245a79521",
   "metadata": {},
   "outputs": [
    {
     "data": {
      "image/png": "[encoded data removed]",
      "text/plain": [
       "<Figure size 720x288 with 2 Axes>"
      ]
     },
     "metadata": {
      "needs_background": "light"
     },
     "output_type": "display_data"
    }
   ],
   "source": [
    "import matplotlib.pyplot as plt\n",
    "import matplotlib.ticker as mtick\n",
    "\n",
    "df_transposed = df.transpose()\n",
    "accuracies_dtc_transposed = accuracies_dtc.transpose()\n",
    "\n",
    "# Create subplots with 1 row and 2 columns\n",
    "fig, axes = plt.subplots(nrows=1, ncols=2, figsize=(10, 4))\n",
    "\n",
    "# Plot the first histogram on the first subplot\n",
    "ax1 = df_transposed.plot(kind='bar', legend=False, ax=axes[0])\n",
    "ax1.set_xlabel('Classifiers')\n",
    "ax1.set_ylabel('Scores')\n",
    "ax1.set_title('Histogram of Classifier Scores - Random Forest')\n",
    "ax1.set_ylim(0.5, 1.0)\n",
    "ax1.yaxis.set_major_formatter(mtick.PercentFormatter(xmax=1.0))\n",
    "\n",
    "\n",
    "# Plot the second histogram on the second subplot\n",
    "ax2 = accuracies_dtc_transposed.plot(kind='bar', legend=False, ax=axes[1])\n",
    "ax2.set_xlabel('Classifiers')\n",
    "ax2.set_ylabel('Scores')\n",
    "ax2.set_title('Histogram of Classifier Scores - Decision Tree Classifier')\n",
    "ax2.set_ylim(0.5, 1.0)\n",
    "ax2.yaxis.set_major_formatter(mtick.PercentFormatter(xmax=1.0))\n",
    "\n",
    "plt.subplots_adjust(wspace=0.4)\n",
    "# Adjust the layout and spacing between subplots\n",
    "#plt.tight_layout()\n",
    "\n",
    "# Display the plot\n",
    "plt.show()"
   ]
  },
  {
   "cell_type": "code",
   "execution_count": null,
   "id": "eaa70836-ec84-4dd9-a487-addfe2e78948",
   "metadata": {},
   "outputs": [],
   "source": []
  },
  {
   "cell_type": "code",
   "execution_count": null,
   "id": "f9b9635c-3d8d-4d90-9124-df0a5aa1e515",
   "metadata": {},
   "outputs": [],
   "source": []
  }
 ],
 "metadata": {
  "kernelspec": {
   "display_name": "Python 3 (ipykernel)",
   "language": "python",
   "name": "python3"
  },
  "language_info": {
   "codemirror_mode": {
    "name": "ipython",
    "version": 3
   },
   "file_extension": ".py",
   "mimetype": "text/x-python",
   "name": "python",
   "nbconvert_exporter": "python",
   "pygments_lexer": "ipython3",
   "version": "3.9.7"
  }
 },
 "nbformat": 4,
 "nbformat_minor": 5
}
