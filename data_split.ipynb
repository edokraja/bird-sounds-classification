{
 "cells": [
  {
   "cell_type": "code",
   "execution_count": 9,
   "id": "abda9522",
   "metadata": {},
   "outputs": [],
   "source": [
    "import os\n",
    "import numpy as np\n",
    "import pandas as pd\n",
    "from sklearn.model_selection import KFold\n",
    "import time\n",
    "from sklearn.svm import SVC\n",
    "from sklearn.preprocessing import StandardScaler\n",
    "from sklearn.neighbors import KNeighborsClassifier as KNN"
   ]
  },
  {
   "cell_type": "code",
   "execution_count": 10,
   "id": "bab7a6fe",
   "metadata": {},
   "outputs": [],
   "source": [
    "data = pd.read_csv('./dataset/new/data.csv').drop(columns=\"Unnamed: 0\")\n",
    "labels = pd.read_csv('./dataset/new/labels.csv')"
   ]
  },
  {
   "cell_type": "code",
   "execution_count": 11,
   "id": "1c6d8a6f",
   "metadata": {},
   "outputs": [
    {
     "data": {
      "text/html": [
       "<div>\n",
       "<style scoped>\n",
       "    .dataframe tbody tr th:only-of-type {\n",
       "        vertical-align: middle;\n",
       "    }\n",
       "\n",
       "    .dataframe tbody tr th {\n",
       "        vertical-align: top;\n",
       "    }\n",
       "\n",
       "    .dataframe thead th {\n",
       "        text-align: right;\n",
       "    }\n",
       "</style>\n",
       "<table border=\"1\" class=\"dataframe\">\n",
       "  <thead>\n",
       "    <tr style=\"text-align: right;\">\n",
       "      <th></th>\n",
       "      <th>zcr_mean</th>\n",
       "      <th>zcr_std</th>\n",
       "      <th>yin_0</th>\n",
       "      <th>yin_1</th>\n",
       "      <th>yin_2</th>\n",
       "      <th>yin_3</th>\n",
       "      <th>yin_4</th>\n",
       "      <th>yin_5</th>\n",
       "      <th>yin_6</th>\n",
       "      <th>yin_7</th>\n",
       "      <th>...</th>\n",
       "      <th>cln_contrast_mean_4</th>\n",
       "      <th>cln_contrast_mean_5</th>\n",
       "      <th>cln_contrast_mean_6</th>\n",
       "      <th>cln_contrast_std_0</th>\n",
       "      <th>cln_contrast_std_1</th>\n",
       "      <th>cln_contrast_std_2</th>\n",
       "      <th>cln_contrast_std_3</th>\n",
       "      <th>cln_contrast_std_4</th>\n",
       "      <th>cln_contrast_std_5</th>\n",
       "      <th>cln_contrast_std_6</th>\n",
       "    </tr>\n",
       "  </thead>\n",
       "  <tbody>\n",
       "    <tr>\n",
       "      <th>0</th>\n",
       "      <td>0.104213</td>\n",
       "      <td>0.025389</td>\n",
       "      <td>144.178630</td>\n",
       "      <td>167.02170</td>\n",
       "      <td>115.430466</td>\n",
       "      <td>115.579770</td>\n",
       "      <td>124.897190</td>\n",
       "      <td>124.318660</td>\n",
       "      <td>134.522060</td>\n",
       "      <td>138.791560</td>\n",
       "      <td>...</td>\n",
       "      <td>12.657701</td>\n",
       "      <td>14.509855</td>\n",
       "      <td>18.643116</td>\n",
       "      <td>2.905979</td>\n",
       "      <td>2.252765</td>\n",
       "      <td>2.997747</td>\n",
       "      <td>3.173423</td>\n",
       "      <td>2.699984</td>\n",
       "      <td>2.714874</td>\n",
       "      <td>2.329038</td>\n",
       "    </tr>\n",
       "    <tr>\n",
       "      <th>1</th>\n",
       "      <td>0.108329</td>\n",
       "      <td>0.018797</td>\n",
       "      <td>116.932335</td>\n",
       "      <td>116.81062</td>\n",
       "      <td>104.958510</td>\n",
       "      <td>106.856224</td>\n",
       "      <td>107.122960</td>\n",
       "      <td>131.222120</td>\n",
       "      <td>353.585820</td>\n",
       "      <td>128.099060</td>\n",
       "      <td>...</td>\n",
       "      <td>13.057363</td>\n",
       "      <td>13.359251</td>\n",
       "      <td>16.425354</td>\n",
       "      <td>2.510432</td>\n",
       "      <td>2.361842</td>\n",
       "      <td>2.691745</td>\n",
       "      <td>1.427239</td>\n",
       "      <td>2.369561</td>\n",
       "      <td>1.818932</td>\n",
       "      <td>2.163963</td>\n",
       "    </tr>\n",
       "    <tr>\n",
       "      <th>2</th>\n",
       "      <td>0.203055</td>\n",
       "      <td>0.022426</td>\n",
       "      <td>319.182280</td>\n",
       "      <td>131.99893</td>\n",
       "      <td>131.480270</td>\n",
       "      <td>121.196110</td>\n",
       "      <td>121.224365</td>\n",
       "      <td>121.071150</td>\n",
       "      <td>131.966660</td>\n",
       "      <td>794.266660</td>\n",
       "      <td>...</td>\n",
       "      <td>12.970959</td>\n",
       "      <td>21.755045</td>\n",
       "      <td>21.717041</td>\n",
       "      <td>1.537123</td>\n",
       "      <td>1.638238</td>\n",
       "      <td>3.026752</td>\n",
       "      <td>1.810459</td>\n",
       "      <td>2.805019</td>\n",
       "      <td>4.571950</td>\n",
       "      <td>4.293758</td>\n",
       "    </tr>\n",
       "    <tr>\n",
       "      <th>3</th>\n",
       "      <td>0.119210</td>\n",
       "      <td>0.032156</td>\n",
       "      <td>256.728060</td>\n",
       "      <td>515.78436</td>\n",
       "      <td>224.581180</td>\n",
       "      <td>112.526240</td>\n",
       "      <td>131.550890</td>\n",
       "      <td>131.923520</td>\n",
       "      <td>129.934570</td>\n",
       "      <td>115.061554</td>\n",
       "      <td>...</td>\n",
       "      <td>14.145430</td>\n",
       "      <td>15.075860</td>\n",
       "      <td>19.178572</td>\n",
       "      <td>2.318593</td>\n",
       "      <td>2.508579</td>\n",
       "      <td>1.901502</td>\n",
       "      <td>3.409710</td>\n",
       "      <td>2.446294</td>\n",
       "      <td>1.661938</td>\n",
       "      <td>3.035185</td>\n",
       "    </tr>\n",
       "    <tr>\n",
       "      <th>4</th>\n",
       "      <td>0.113839</td>\n",
       "      <td>0.019690</td>\n",
       "      <td>116.983660</td>\n",
       "      <td>108.42759</td>\n",
       "      <td>108.570360</td>\n",
       "      <td>136.068340</td>\n",
       "      <td>135.782400</td>\n",
       "      <td>111.091484</td>\n",
       "      <td>111.612175</td>\n",
       "      <td>104.272835</td>\n",
       "      <td>...</td>\n",
       "      <td>12.054803</td>\n",
       "      <td>14.731396</td>\n",
       "      <td>17.400953</td>\n",
       "      <td>3.947008</td>\n",
       "      <td>1.956441</td>\n",
       "      <td>2.477308</td>\n",
       "      <td>3.416498</td>\n",
       "      <td>1.927335</td>\n",
       "      <td>1.812949</td>\n",
       "      <td>1.570067</td>\n",
       "    </tr>\n",
       "  </tbody>\n",
       "</table>\n",
       "<p>5 rows × 548 columns</p>\n",
       "</div>"
      ],
      "text/plain": [
       "   zcr_mean   zcr_std       yin_0      yin_1       yin_2       yin_3  \\\n",
       "0  0.104213  0.025389  144.178630  167.02170  115.430466  115.579770   \n",
       "1  0.108329  0.018797  116.932335  116.81062  104.958510  106.856224   \n",
       "2  0.203055  0.022426  319.182280  131.99893  131.480270  121.196110   \n",
       "3  0.119210  0.032156  256.728060  515.78436  224.581180  112.526240   \n",
       "4  0.113839  0.019690  116.983660  108.42759  108.570360  136.068340   \n",
       "\n",
       "        yin_4       yin_5       yin_6       yin_7  ...  cln_contrast_mean_4  \\\n",
       "0  124.897190  124.318660  134.522060  138.791560  ...            12.657701   \n",
       "1  107.122960  131.222120  353.585820  128.099060  ...            13.057363   \n",
       "2  121.224365  121.071150  131.966660  794.266660  ...            12.970959   \n",
       "3  131.550890  131.923520  129.934570  115.061554  ...            14.145430   \n",
       "4  135.782400  111.091484  111.612175  104.272835  ...            12.054803   \n",
       "\n",
       "   cln_contrast_mean_5  cln_contrast_mean_6  cln_contrast_std_0  \\\n",
       "0            14.509855            18.643116            2.905979   \n",
       "1            13.359251            16.425354            2.510432   \n",
       "2            21.755045            21.717041            1.537123   \n",
       "3            15.075860            19.178572            2.318593   \n",
       "4            14.731396            17.400953            3.947008   \n",
       "\n",
       "   cln_contrast_std_1  cln_contrast_std_2  cln_contrast_std_3  \\\n",
       "0            2.252765            2.997747            3.173423   \n",
       "1            2.361842            2.691745            1.427239   \n",
       "2            1.638238            3.026752            1.810459   \n",
       "3            2.508579            1.901502            3.409710   \n",
       "4            1.956441            2.477308            3.416498   \n",
       "\n",
       "   cln_contrast_std_4  cln_contrast_std_5  cln_contrast_std_6  \n",
       "0            2.699984            2.714874            2.329038  \n",
       "1            2.369561            1.818932            2.163963  \n",
       "2            2.805019            4.571950            4.293758  \n",
       "3            2.446294            1.661938            3.035185  \n",
       "4            1.927335            1.812949            1.570067  \n",
       "\n",
       "[5 rows x 548 columns]"
      ]
     },
     "execution_count": 11,
     "metadata": {},
     "output_type": "execute_result"
    }
   ],
   "source": [
    "data.head()"
   ]
  },
  {
   "cell_type": "code",
   "execution_count": 12,
   "id": "e5d8388c",
   "metadata": {},
   "outputs": [
    {
     "name": "stdout",
     "output_type": "stream",
     "text": [
      "bird0: 85358\n",
      "bird1: 5833\n",
      "bird2: 8954\n",
      "bird3: 8198\n",
      "bird4: 2324\n",
      "bird5: 5111\n",
      "bird6: 4222\n"
     ]
    }
   ],
   "source": [
    "for i in range(7):\n",
    "    print(f\"bird{i}:\",labels[labels[\"Aggregated\"]==i].shape[0])"
   ]
  },
  {
   "cell_type": "code",
   "execution_count": 13,
   "id": "ece59d62",
   "metadata": {},
   "outputs": [],
   "source": [
    "new_data = []\n",
    "new_labels = []\n",
    "for i in range(0,7):\n",
    "    indices = labels[labels[\"Aggregated\"] == i].sample(9000, replace=True).index.values.tolist()\n",
    "    new_data.append(data.iloc[indices])\n",
    "    new_labels.append(labels[\"Aggregated\"].iloc[indices])\n",
    "new_data = pd.concat(new_data)\n",
    "new_labels = pd.concat(new_labels)"
   ]
  },
  {
   "cell_type": "code",
   "execution_count": 14,
   "id": "7a65c354",
   "metadata": {},
   "outputs": [
    {
     "data": {
      "text/plain": [
       "(63000, 548)"
      ]
     },
     "execution_count": 14,
     "metadata": {},
     "output_type": "execute_result"
    }
   ],
   "source": [
    "new_data.shape"
   ]
  },
  {
   "cell_type": "code",
   "execution_count": 15,
   "id": "f3ec255d",
   "metadata": {},
   "outputs": [
    {
     "name": "stdout",
     "output_type": "stream",
     "text": [
      "bird0: 9000\n",
      "bird1: 9000\n",
      "bird2: 9000\n",
      "bird3: 9000\n",
      "bird4: 9000\n",
      "bird5: 9000\n",
      "bird6: 9000\n"
     ]
    }
   ],
   "source": [
    "for i in range(7):\n",
    "    print(f\"bird{i}:\",new_labels[new_labels==i].shape[0])"
   ]
  },
  {
   "cell_type": "code",
   "execution_count": null,
   "id": "7283156f",
   "metadata": {},
   "outputs": [],
   "source": [
    "from sklearn.model_selection import KFold\n",
    "from sklearn.naive_bayes import GaussianNB\n",
    "\n",
    "kf = KFold(n_splits=5, shuffle=True, random_state=42)\n",
    "gnb_acc = []\n",
    "for train_index, test_index in kf.split(new_data):\n",
    "    X_train, X_test = new_data.iloc[train_index], new_data.iloc[test_index]\n",
    "    y_train, y_test = new_labels.iloc[train_index], new_labels.iloc[test_index]\n",
    "    gnb = GaussianNB()\n",
    "    gnb.fit(X_train, y_train)\n",
    "    y_predictions = gnb.predict(X_test)\n",
    "    y_test[y_test == 0] = -1\n",
    "    temp_acc = round(sum(np.where(y_test == y_predictions, 1, 0)) / len(y_test[y_test != -1]), 3)\n",
    "    print(temp_acc)\n",
    "    gnb_acc.append(temp_acc)\n",
    "print(gnb_acc)\n",
    "print(f\"Estimate of the accuracy = {sum(gnb_acc) / len(gnb_acc)}\")"
   ]
  },
  {
   "cell_type": "code",
   "execution_count": null,
   "id": "ce6df512",
   "metadata": {
    "scrolled": true
   },
   "outputs": [],
   "source": [
    "kf = KFold(n_splits=5, shuffle=True, random_state=42)\n",
    "acc = []\n",
    "for train_index, test_index in kf.split(new_data):\n",
    "    X_train, X_test = new_data.iloc[train_index], new_data.iloc[test_index]\n",
    "    y_train, y_test = new_labels.iloc[train_index], new_labels.iloc[test_index]\n",
    "    knn_cf = KNN(n_neighbors=6)\n",
    "    knn_cf.fit(X_train, y_train)\n",
    "    y_predictions = knn_cf.predict(X_test)\n",
    "    y_test[y_test == 0] = -1\n",
    "    temp_acc = sum(np.where(y_test == y_predictions, 1, 0)) / len(y_test[y_test != -1])\n",
    "    print(temp_acc)\n",
    "    acc.append(temp_acc)\n",
    "print(acc)\n",
    "print(f\"Estimate of the accuracy = {sum(acc) / len(acc)}\")"
   ]
  },
  {
   "cell_type": "code",
   "execution_count": 16,
   "id": "d42d7502",
   "metadata": {},
   "outputs": [
    {
     "ename": "NameError",
     "evalue": "name 'plt' is not defined",
     "output_type": "error",
     "traceback": [
      "\u001b[0;31m---------------------------------------------------------------------------\u001b[0m",
      "\u001b[0;31mNameError\u001b[0m                                 Traceback (most recent call last)",
      "Input \u001b[0;32mIn [16]\u001b[0m, in \u001b[0;36m<cell line: 3>\u001b[0;34m()\u001b[0m\n\u001b[1;32m      1\u001b[0m fss \u001b[38;5;241m=\u001b[39m new_data\u001b[38;5;241m.\u001b[39mcopy()\n\u001b[1;32m      2\u001b[0m corr \u001b[38;5;241m=\u001b[39m fss\u001b[38;5;241m.\u001b[39mcorr()\n\u001b[0;32m----> 3\u001b[0m \u001b[43mplt\u001b[49m\u001b[38;5;241m.\u001b[39mfigure(figsize\u001b[38;5;241m=\u001b[39m(\u001b[38;5;241m14\u001b[39m,\u001b[38;5;241m14\u001b[39m))\n\u001b[1;32m      4\u001b[0m sns\u001b[38;5;241m.\u001b[39mheatmap(corr)\n\u001b[1;32m      5\u001b[0m plt\u001b[38;5;241m.\u001b[39mshow()\n",
      "\u001b[0;31mNameError\u001b[0m: name 'plt' is not defined"
     ]
    }
   ],
   "source": [
    "fss = new_data.copy()\n",
    "corr = fss.corr()\n",
    "plt.figure(figsize=(14,14))\n",
    "sns.heatmap(corr)\n",
    "plt.show()"
   ]
  },
  {
   "cell_type": "code",
   "execution_count": null,
   "id": "58645d9f",
   "metadata": {},
   "outputs": [],
   "source": []
  },
  {
   "cell_type": "code",
   "execution_count": null,
   "id": "14bd62e5",
   "metadata": {},
   "outputs": [],
   "source": [
    "X_subset_features = new_data.copy()\n",
    "correlation_matrix = X_subset_features.corr()\n",
    "mask = np.triu(np.ones_like(correlation_matrix, dtype=bool))\n",
    "reduced_matrix = correlation_matrix.mask(mask)\n",
    "feature_redundancy = reduced_matrix.abs().sum()\n",
    "sorted_features = feature_redundancy.sort_values(ascending=False)\n",
    "\n",
    "threshold = 0.9\n",
    "selected_features = []\n",
    "for feature in sorted_features.index:\n",
    "    if not any(np.abs(correlation_matrix[feature][selected_features]) > threshold):\n",
    "        selected_features.append(feature)\n",
    "\n",
    "X_subset_features = X_subset_features[selected_features]"
   ]
  }
 ],
 "metadata": {
  "kernelspec": {
   "display_name": "Python 3 (ipykernel)",
   "language": "python",
   "name": "python3"
  },
  "language_info": {
   "codemirror_mode": {
    "name": "ipython",
    "version": 3
   },
   "file_extension": ".py",
   "mimetype": "text/x-python",
   "name": "python",
   "nbconvert_exporter": "python",
   "pygments_lexer": "ipython3",
   "version": "3.9.10"
  }
 },
 "nbformat": 4,
 "nbformat_minor": 5
}
