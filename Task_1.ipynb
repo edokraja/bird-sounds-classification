{
 "cells": [
  {
   "cell_type": "code",
   "execution_count": 2,
   "id": "ba0c373e",
   "metadata": {},
   "outputs": [],
   "source": [
    "import seaborn as sns\n",
    "import pandas as pd\n",
    "import numpy as np\n",
    "import matplotlib.pyplot as plt"
   ]
  },
  {
   "cell_type": "code",
   "execution_count": 42,
   "id": "6f4a9525",
   "metadata": {
    "scrolled": true
   },
   "outputs": [
    {
     "data": {
      "text/html": [
       "<div>\n",
       "<style scoped>\n",
       "    .dataframe tbody tr th:only-of-type {\n",
       "        vertical-align: middle;\n",
       "    }\n",
       "\n",
       "    .dataframe tbody tr th {\n",
       "        vertical-align: top;\n",
       "    }\n",
       "\n",
       "    .dataframe thead th {\n",
       "        text-align: right;\n",
       "    }\n",
       "</style>\n",
       "<table border=\"1\" class=\"dataframe\">\n",
       "  <thead>\n",
       "    <tr style=\"text-align: right;\">\n",
       "      <th></th>\n",
       "      <th>Position</th>\n",
       "      <th>Aggregated</th>\n",
       "      <th>1</th>\n",
       "      <th>2</th>\n",
       "      <th>3</th>\n",
       "      <th>4</th>\n",
       "      <th>5</th>\n",
       "      <th>6</th>\n",
       "      <th>7</th>\n",
       "    </tr>\n",
       "  </thead>\n",
       "  <tbody>\n",
       "    <tr>\n",
       "      <th>0</th>\n",
       "      <td>0</td>\n",
       "      <td>0</td>\n",
       "      <td>0</td>\n",
       "      <td>0</td>\n",
       "      <td>0</td>\n",
       "      <td>0.0</td>\n",
       "      <td>0.0</td>\n",
       "      <td>0.0</td>\n",
       "      <td>NaN</td>\n",
       "    </tr>\n",
       "    <tr>\n",
       "      <th>1</th>\n",
       "      <td>1</td>\n",
       "      <td>0</td>\n",
       "      <td>0</td>\n",
       "      <td>0</td>\n",
       "      <td>0</td>\n",
       "      <td>0.0</td>\n",
       "      <td>0.0</td>\n",
       "      <td>0.0</td>\n",
       "      <td>NaN</td>\n",
       "    </tr>\n",
       "    <tr>\n",
       "      <th>2</th>\n",
       "      <td>2</td>\n",
       "      <td>0</td>\n",
       "      <td>0</td>\n",
       "      <td>0</td>\n",
       "      <td>0</td>\n",
       "      <td>0.0</td>\n",
       "      <td>0.0</td>\n",
       "      <td>0.0</td>\n",
       "      <td>NaN</td>\n",
       "    </tr>\n",
       "    <tr>\n",
       "      <th>3</th>\n",
       "      <td>3</td>\n",
       "      <td>0</td>\n",
       "      <td>0</td>\n",
       "      <td>0</td>\n",
       "      <td>0</td>\n",
       "      <td>0.0</td>\n",
       "      <td>0.0</td>\n",
       "      <td>0.0</td>\n",
       "      <td>NaN</td>\n",
       "    </tr>\n",
       "    <tr>\n",
       "      <th>4</th>\n",
       "      <td>4</td>\n",
       "      <td>0</td>\n",
       "      <td>0</td>\n",
       "      <td>0</td>\n",
       "      <td>0</td>\n",
       "      <td>0.0</td>\n",
       "      <td>0.0</td>\n",
       "      <td>0.0</td>\n",
       "      <td>NaN</td>\n",
       "    </tr>\n",
       "    <tr>\n",
       "      <th>...</th>\n",
       "      <td>...</td>\n",
       "      <td>...</td>\n",
       "      <td>...</td>\n",
       "      <td>...</td>\n",
       "      <td>...</td>\n",
       "      <td>...</td>\n",
       "      <td>...</td>\n",
       "      <td>...</td>\n",
       "      <td>...</td>\n",
       "    </tr>\n",
       "    <tr>\n",
       "      <th>119995</th>\n",
       "      <td>95</td>\n",
       "      <td>0</td>\n",
       "      <td>0</td>\n",
       "      <td>0</td>\n",
       "      <td>0</td>\n",
       "      <td>0.0</td>\n",
       "      <td>0.0</td>\n",
       "      <td>0.0</td>\n",
       "      <td>0.0</td>\n",
       "    </tr>\n",
       "    <tr>\n",
       "      <th>119996</th>\n",
       "      <td>96</td>\n",
       "      <td>0</td>\n",
       "      <td>0</td>\n",
       "      <td>0</td>\n",
       "      <td>0</td>\n",
       "      <td>0.0</td>\n",
       "      <td>0.0</td>\n",
       "      <td>0.0</td>\n",
       "      <td>0.0</td>\n",
       "    </tr>\n",
       "    <tr>\n",
       "      <th>119997</th>\n",
       "      <td>97</td>\n",
       "      <td>0</td>\n",
       "      <td>0</td>\n",
       "      <td>0</td>\n",
       "      <td>0</td>\n",
       "      <td>0.0</td>\n",
       "      <td>0.0</td>\n",
       "      <td>0.0</td>\n",
       "      <td>0.0</td>\n",
       "    </tr>\n",
       "    <tr>\n",
       "      <th>119998</th>\n",
       "      <td>98</td>\n",
       "      <td>0</td>\n",
       "      <td>0</td>\n",
       "      <td>0</td>\n",
       "      <td>0</td>\n",
       "      <td>0.0</td>\n",
       "      <td>0.0</td>\n",
       "      <td>0.0</td>\n",
       "      <td>0.0</td>\n",
       "    </tr>\n",
       "    <tr>\n",
       "      <th>119999</th>\n",
       "      <td>99</td>\n",
       "      <td>0</td>\n",
       "      <td>0</td>\n",
       "      <td>0</td>\n",
       "      <td>0</td>\n",
       "      <td>0.0</td>\n",
       "      <td>0.0</td>\n",
       "      <td>0.0</td>\n",
       "      <td>0.0</td>\n",
       "    </tr>\n",
       "  </tbody>\n",
       "</table>\n",
       "<p>120000 rows × 9 columns</p>\n",
       "</div>"
      ],
      "text/plain": [
       "        Position  Aggregated  1  2  3    4    5    6    7\n",
       "0              0           0  0  0  0  0.0  0.0  0.0  NaN\n",
       "1              1           0  0  0  0  0.0  0.0  0.0  NaN\n",
       "2              2           0  0  0  0  0.0  0.0  0.0  NaN\n",
       "3              3           0  0  0  0  0.0  0.0  0.0  NaN\n",
       "4              4           0  0  0  0  0.0  0.0  0.0  NaN\n",
       "...          ...         ... .. .. ..  ...  ...  ...  ...\n",
       "119995        95           0  0  0  0  0.0  0.0  0.0  0.0\n",
       "119996        96           0  0  0  0  0.0  0.0  0.0  0.0\n",
       "119997        97           0  0  0  0  0.0  0.0  0.0  0.0\n",
       "119998        98           0  0  0  0  0.0  0.0  0.0  0.0\n",
       "119999        99           0  0  0  0  0.0  0.0  0.0  0.0\n",
       "\n",
       "[120000 rows x 9 columns]"
      ]
     },
     "execution_count": 42,
     "metadata": {},
     "output_type": "execute_result"
    }
   ],
   "source": [
    "labels = pd.read_csv('./dataset/new/labels.csv')\n",
    "labels"
   ]
  },
  {
   "cell_type": "code",
   "execution_count": 81,
   "id": "aa2fce3e",
   "metadata": {},
   "outputs": [],
   "source": [
    "def calculate_classified(labels: pd.DataFrame, precision_digits: int = 2):\n",
    "    classified = []\n",
    "    for index, r in labels[['1', '2', '3', '4', '5', '6', '7']].iterrows():\n",
    "        #get rid on Nan to have really % of people classified, not the count of people divided by 7\n",
    "        # not the same as number of annotators differs for each sample between 3 and 6\n",
    "        row = r.dropna().to_numpy().tolist()\n",
    "        # transform rows with 0's and some class label into 0's and 1's where it is labeled\n",
    "        # is ok while we are guaranteed that only one of spicies is classified at each sample\n",
    "    \n",
    "        row = [1 if x != 0 else 0 for x in row]\n",
    "    \n",
    "        true_labeled = row.count(1)\n",
    "        all_labeled = len(row)\n",
    "    \n",
    "        classified.append((true_labeled/all_labeled).__round__(precision_digits))\n",
    "    return classified"
   ]
  },
  {
   "cell_type": "code",
   "execution_count": 83,
   "id": "877ec085",
   "metadata": {},
   "outputs": [],
   "source": [
    "labels['classified%'] = calculate_classified(labels)"
   ]
  },
  {
   "cell_type": "code",
   "execution_count": 84,
   "id": "8fb190d5",
   "metadata": {},
   "outputs": [
    {
     "data": {
      "text/plain": [
       "<AxesSubplot:xlabel='classified%', ylabel='Probability'>"
      ]
     },
     "execution_count": 84,
     "metadata": {},
     "output_type": "execute_result"
    },
    {
     "data": {
      "image/png": "[encoded data removed]",
      "text/plain": [
       "<Figure size 432x288 with 1 Axes>"
      ]
     },
     "metadata": {
      "needs_background": "light"
     },
     "output_type": "display_data"
    }
   ],
   "source": [
    "sns.histplot(data=labels, x=\"classified%\", stat='probability', element=\"bars\", bins=20)"
   ]
  },
  {
   "cell_type": "code",
   "execution_count": 91,
   "id": "3a21bdc0",
   "metadata": {
    "scrolled": true
   },
   "outputs": [
    {
     "data": {
      "image/png": "[encoded data removed]",
      "text/plain": [
       "<Figure size 1152x720 with 6 Axes>"
      ]
     },
     "metadata": {
      "needs_background": "light"
     },
     "output_type": "display_data"
    }
   ],
   "source": [
    "folders = [\"comcuc\", \"cowpig1\", \"eucdov\", \"eueowl1\", \"grswoo\", \"tawowl1\"]\n",
    "fig, axes = plt.subplots(2, 3, sharey=True, figsize=(16, 10))\n",
    "for i, folder in enumerate(folders):\n",
    "    labels_folder = pd.read_csv('./dataset/new/' + folder + '_labels.csv')\n",
    "    labels_folder['classified%'] = calculate_classified(labels_folder)\n",
    "    sns.histplot(ax=axes[int(i/3), i%3], data=labels_folder, x=\"classified%\", stat='probability', element=\"bars\", bins=20).set(title=folder)"
   ]
  },
  {
   "cell_type": "code",
   "execution_count": 92,
   "id": "e9d15aad",
   "metadata": {
    "scrolled": true
   },
   "outputs": [],
   "source": [
    "#plt.scatter(labels['Aggregated'], labels['classified%'])"
   ]
  },
  {
   "cell_type": "code",
   "execution_count": 93,
   "id": "88bdb8c3",
   "metadata": {},
   "outputs": [
    {
     "name": "stdout",
     "output_type": "stream",
     "text": [
      "0.7764274579989608\n"
     ]
    }
   ],
   "source": [
    "print(len(labels.loc[(labels['Aggregated'] != 0) & (labels['classified%'] > 0.79)])/len(labels.loc[(labels['Aggregated'] != 0)]))\n",
    "\n",
    "# cut at 0.65 and up is labeled truly\n",
    "# leads to ±27 % of 1's, rest is classified as others"
   ]
  }
 ],
 "metadata": {
  "kernelspec": {
   "display_name": "Python 3 (ipykernel)",
   "language": "python",
   "name": "python3"
  },
  "language_info": {
   "codemirror_mode": {
    "name": "ipython",
    "version": 3
   },
   "file_extension": ".py",
   "mimetype": "text/x-python",
   "name": "python",
   "nbconvert_exporter": "python",
   "pygments_lexer": "ipython3",
   "version": "3.9.10"
  }
 },
 "nbformat": 4,
 "nbformat_minor": 5
}
